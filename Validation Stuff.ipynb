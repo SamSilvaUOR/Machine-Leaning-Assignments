{
 "cells": [
  {
   "cell_type": "code",
   "execution_count": 1,
   "metadata": {},
   "outputs": [],
   "source": [
    "import numpy as np\n",
    "import pandas as pd\n",
    "import matplotlib.pyplot as plt\n",
    "from sklearn.datasets import make_classification\n",
    "# synthetic dataset for classification (binary) \n",
    "X, y = make_classification(n_samples = 500, n_features=2,\n",
    "                                n_redundant=0, n_informative=2,\n",
    "                                n_clusters_per_class=1, flip_y = 0.1,\n",
    "                                class_sep = 0.5, random_state=0)"
   ]
  },
  {
   "cell_type": "markdown",
   "metadata": {},
   "source": [
    "Question 1: Use cross_var_score to apply logistic regression and cross validation with 5 folds to the dataset X,y as above."
   ]
  },
  {
   "cell_type": "code",
   "execution_count": 2,
   "metadata": {},
   "outputs": [
    {
     "name": "stdout",
     "output_type": "stream",
     "text": [
      "Cross-validation scores (5-fold): [0.75247525 0.74257426 0.74       0.64646465 0.72727273]\n",
      "Mean cross-validation score (5-fold): 0.722\n"
     ]
    }
   ],
   "source": [
    "# Import Packages\n",
    "from sklearn.linear_model import LogisticRegression\n",
    "from sklearn.model_selection import cross_val_score\n",
    "\n",
    "cvnum = 5\n",
    "log_reg = LogisticRegression(solver = \"lbfgs\")\n",
    "cv_scores = cross_val_score(log_reg, X, y, cv=cvnum)\n",
    "\n",
    "print('Cross-validation scores ({}-fold): {}'.format(cvnum,cv_scores))\n",
    "print('Mean cross-validation score ({}-fold): {:.3f}'\n",
    "     .format(cvnum,np.mean(cv_scores)))"
   ]
  },
  {
   "cell_type": "markdown",
   "metadata": {},
   "source": [
    "Question 2: Use validation_curve and 5 folds to see the effect of changing the parameter C in LogisticRegression. This parameter controls regularization. Low values of C is high amounts of regularization, and high values of C are low amounts of Regularization. You should use powers of 10 varying from $10^{-3}$ to $10^3$.  Graph the training scores versus the testing scores. Use plt.loglog() instead of plt.plot() for a log scale plot. What is the best value of C? What's your best score?\n"
   ]
  },
  {
   "cell_type": "code",
   "execution_count": 3,
   "metadata": {},
   "outputs": [
    {
     "name": "stdout",
     "output_type": "stream",
     "text": [
      "[[0.67669173 0.67669173 0.6675     0.680798   0.67581047]\n",
      " [0.68671679 0.69423559 0.6875     0.69825436 0.69825436]\n",
      " [0.70676692 0.72180451 0.715      0.73815461 0.71820449]\n",
      " [0.71428571 0.72932331 0.7225     0.73815461 0.72319202]\n",
      " [0.71428571 0.72932331 0.7225     0.74314214 0.72568579]\n",
      " [0.71428571 0.72932331 0.7225     0.74314214 0.72568579]\n",
      " [0.71428571 0.72932331 0.7225     0.74314214 0.72568579]]\n",
      "average across folds [0.67549839 0.69299222 0.71998611 0.72549113 0.72698739 0.72698739\n",
      " 0.72698739]\n",
      "standard deviation [0.00435903 0.00502935 0.01035552 0.00793528 0.00948257 0.00948257\n",
      " 0.00948257]\n",
      "[[0.66336634 0.67326733 0.7        0.65656566 0.66666667]\n",
      " [0.66336634 0.71287129 0.73       0.67676768 0.66666667]\n",
      " [0.73267327 0.73267327 0.77       0.66666667 0.6969697 ]\n",
      " [0.75247525 0.74257426 0.74       0.64646465 0.72727273]\n",
      " [0.75247525 0.74257426 0.74       0.64646465 0.72727273]\n",
      " [0.75247525 0.74257426 0.74       0.64646465 0.72727273]\n",
      " [0.75247525 0.74257426 0.74       0.64646465 0.72727273]]\n",
      "average across folds [0.6719732  0.68993439 0.71979658 0.72175738 0.72175738 0.72175738\n",
      " 0.72175738]\n",
      "standard deviation [0.01501204 0.0266532  0.03520186 0.03849451 0.03849451 0.03849451\n",
      " 0.03849451]\n"
     ]
    },
    {
     "data": {
      "image/png": "[encoded data removed]",
      "text/plain": [
       "<Figure size 432x288 with 1 Axes>"
      ]
     },
     "metadata": {
      "needs_background": "light"
     },
     "output_type": "display_data"
    }
   ],
   "source": [
    "from sklearn.model_selection import validation_curve\n",
    "\n",
    "#create a varying array C\n",
    "C = [10**-3, 10**-2, 10**-1, 1, 10**1, 10**2, 10**3]\n",
    "param_range = C\n",
    "\n",
    "log_reg = LogisticRegression(solver = \"lbfgs\")\n",
    "# input parameter range as C \n",
    "train_scores, test_scores = validation_curve(log_reg, X, y, param_name = 'C', param_range = C , cv = 5)\n",
    "\n",
    "print(train_scores)\n",
    "print(\"average across folds\",np.mean(train_scores, axis=1))\n",
    "print(\"standard deviation\",np.std(train_scores, axis=1))\n",
    "## training scores for each fold [columns], for each k [rows]\n",
    "## row 1 is 1 nearest neighbor, etc\n",
    "\n",
    "plt.figure()\n",
    "\n",
    "train_scores_mean = np.mean(train_scores, axis=1)\n",
    "test_scores_mean = np.mean(test_scores, axis=1)\n",
    "\n",
    "print(test_scores)\n",
    "print(\"average across folds\",np.mean(test_scores, axis=1))\n",
    "print(\"standard deviation\",np.std(test_scores, axis=1))\n",
    "\n",
    "plt.title('Validation Curve with LogisticRegression')\n",
    "plt.xlabel('$C$')\n",
    "plt.ylabel('Score')\n",
    "plt.xticks(param_range)\n",
    "lw = 2\n",
    "# use log scale\n",
    "plt.loglog(param_range, train_scores_mean, label='Mean Training score',color='darkorange', lw=lw)\n",
    "plt.loglog(param_range, test_scores_mean, label='Mean Testing score',color='navy', lw=lw)\n",
    "plt.legend(loc='best')\n",
    "plt.show()"
   ]
  },
  {
   "cell_type": "markdown",
   "metadata": {},
   "source": [
    "The best value of C is $10^{-1}$ because anything past that then the model starts to overfit, the best score is 0.71998611."
   ]
  },
  {
   "cell_type": "markdown",
   "metadata": {},
   "source": [
    "Question 3: Use gridseachCV to find the best paramaters to use for kNN with this model. You should vary over $p$ and n_neighbors. You pick the ranges to try. What's your best parameter set and score? How does it compare to LogisticRegression? Then use a larger grid and RandomSearch to see if you can do any better."
   ]
  },
  {
   "cell_type": "code",
   "execution_count": 4,
   "metadata": {},
   "outputs": [
    {
     "name": "stdout",
     "output_type": "stream",
     "text": [
      "Grid best parameter (max. accuracy):  {'n_neighbors': 7}\n",
      "Grid best score (accuracy): 0.826\n",
      "Grid best parameter (max. accuracy):  {'n_neighbors': 19, 'p': 3}\n",
      "Grid best score (accuracy): 0.846\n"
     ]
    }
   ],
   "source": [
    "from sklearn.neighbors import KNeighborsClassifier\n",
    "from sklearn.model_selection import validation_curve\n",
    "from sklearn.model_selection import GridSearchCV\n",
    "\n",
    "param_range = range(1,12,2)\n",
    "train_scores, test_scores = validation_curve(KNeighborsClassifier(), X, y,\n",
    "                                            param_name='n_neighbors',\n",
    "                                            param_range=param_range, cv=cvnum)\n",
    "\n",
    "grid_values = {'n_neighbors': param_range}\n",
    "\n",
    "# default metric to optimize over grid parameters: accuracy\n",
    "grid_clf_acc = GridSearchCV(KNeighborsClassifier(), param_grid = grid_values, cv=5, iid=False)\n",
    "grid_clf_acc.fit(X, y)\n",
    "print('Grid best parameter (max. accuracy): ', grid_clf_acc.best_params_)\n",
    "print('Grid best score (accuracy): {:.3f}'.format(grid_clf_acc.best_score_))\n",
    "\n",
    "grid_clf_acc.best_estimator_\n",
    "\n",
    "k_range = range(1,50,2)\n",
    "p_range=[1,2,3,4,5]\n",
    "grid_values = {'n_neighbors': k_range,'p':p_range}\n",
    "\n",
    "grid_clf_acc = GridSearchCV(KNeighborsClassifier(), param_grid = grid_values, cv=5, iid=False)\n",
    "grid_clf_acc.fit(X, y)\n",
    "print('Grid best parameter (max. accuracy): ', grid_clf_acc.best_params_)\n",
    "print('Grid best score (accuracy): {:.3f}'.format(grid_clf_acc.best_score_))"
   ]
  },
  {
   "cell_type": "markdown",
   "metadata": {},
   "source": [
    "The best paramter is `n_neighbors : 19` and `p : 3` with an accuracy of 0.846. The accuracy from the knn is better than the logistic regression which only had an accuracy of $\\approx$ 0.72.  I messed around with the k_range and p_range, and increasing it to 50 instead of 30 did not change the best parameter.\n"
   ]
  },
  {
   "cell_type": "code",
   "execution_count": 16,
   "metadata": {},
   "outputs": [
    {
     "name": "stdout",
     "output_type": "stream",
     "text": [
      "Rand Search best parameter (max. accuracy): {'p': 5, 'n_neighbors': 7}\n",
      "Rand Search best score (accuracy): 0.832\n"
     ]
    }
   ],
   "source": [
    "## RANDOM SEARCH\n",
    "\n",
    "from sklearn.model_selection import RandomizedSearchCV\n",
    "k_rangeR = range(1,50,2)\n",
    "p_rangeR =[1,2,3,4,5,6,7,8,9]\n",
    "grid_valuesR = {'n_neighbors': k_range1,'p':p_range1}\n",
    "\n",
    "random_search=RandomizedSearchCV(KNeighborsClassifier(),param_distributions=grid_valuesR, cv=cvnum, iid=False)\n",
    "random_search.fit(X,y)\n",
    "\n",
    "print('Rand Search best parameter (max. accuracy):',random_search.best_params_)\n",
    "print('Rand Search best score (accuracy): {:.3f}'.format(random_search.best_score_))"
   ]
  },
  {
   "cell_type": "markdown",
   "metadata": {},
   "source": [
    "Question 4: For each of the following confusion matrices, compute accuracy, precision, recall, and false positive rate. Do not change any of the parameters here. \n",
    "\n"
   ]
  },
  {
   "cell_type": "code",
   "execution_count": 5,
   "metadata": {},
   "outputs": [
    {
     "name": "stdout",
     "output_type": "stream",
     "text": [
      "[[51 17]\n",
      " [15 42]]\n"
     ]
    }
   ],
   "source": [
    "from sklearn.model_selection import train_test_split\n",
    "X_train, X_test, y_train, y_test = train_test_split(X, y, random_state=5) \n",
    "from sklearn.metrics import confusion_matrix\n",
    "from sklearn.linear_model import LogisticRegression\n",
    "\n",
    "log_reg=LogisticRegression(solver='lbfgs').fit(X_train,y_train)\n",
    "confusion = confusion_matrix(y_test,log_reg.predict(X_test))\n",
    "print(confusion)"
   ]
  },
  {
   "cell_type": "code",
   "execution_count": 6,
   "metadata": {},
   "outputs": [
    {
     "name": "stdout",
     "output_type": "stream",
     "text": [
      "Accuracy: 0.74\n",
      "Precision: 0.71\n",
      "Recall: 0.74\n",
      "F1: 0.72\n"
     ]
    }
   ],
   "source": [
    "from sklearn.metrics import accuracy_score, precision_score, recall_score, f1_score\n",
    "# Accuracy = TP + TN / (TP + TN + FP + FN)\n",
    "# Precision = TP / (TP + FP)\n",
    "# Recall = TP / (TP + FN)  Also known as sensitivity, or True Positive Rate\n",
    "# F1 = 2 * Precision * Recall / (Precision + Recall) \n",
    "print('Accuracy: {:.2f}'.format(accuracy_score(y_test, log_reg.predict(X_test))))\n",
    "print('Precision: {:.2f}'.format(precision_score(y_test, log_reg.predict(X_test))))\n",
    "print('Recall: {:.2f}'.format(recall_score(y_test, log_reg.predict(X_test))))\n",
    "print('F1: {:.2f}'.format(f1_score(y_test, log_reg.predict(X_test))))"
   ]
  },
  {
   "cell_type": "code",
   "execution_count": 7,
   "metadata": {},
   "outputs": [
    {
     "name": "stdout",
     "output_type": "stream",
     "text": [
      "[[64  4]\n",
      " [ 8 49]]\n"
     ]
    }
   ],
   "source": [
    "from sklearn.neighbors import KNeighborsClassifier\n",
    "knn=KNeighborsClassifier(n_neighbors=5,p=2).fit(X_train,y_train)\n",
    "confusion = confusion_matrix(y_test,knn.predict(X_test))\n",
    "print(confusion)"
   ]
  },
  {
   "cell_type": "code",
   "execution_count": 8,
   "metadata": {},
   "outputs": [
    {
     "name": "stdout",
     "output_type": "stream",
     "text": [
      "Accuracy: 0.90\n",
      "Precision: 0.92\n",
      "Recall: 0.86\n",
      "F1: 0.89\n"
     ]
    }
   ],
   "source": [
    "from sklearn.metrics import accuracy_score, precision_score, recall_score, f1_score\n",
    "# Accuracy = TP + TN / (TP + TN + FP + FN)\n",
    "# Precision = TP / (TP + FP)\n",
    "# Recall = TP / (TP + FN)  Also known as sensitivity, or True Positive Rate\n",
    "# F1 = 2 * Precision * Recall / (Precision + Recall) \n",
    "print('Accuracy: {:.2f}'.format(accuracy_score(y_test, knn.predict(X_test))))\n",
    "print('Precision: {:.2f}'.format(precision_score(y_test, knn.predict(X_test))))\n",
    "print('Recall: {:.2f}'.format(recall_score(y_test, knn.predict(X_test))))\n",
    "print('F1: {:.2f}'.format(f1_score(y_test, knn.predict(X_test))))"
   ]
  },
  {
   "cell_type": "markdown",
   "metadata": {},
   "source": [
    "Question 5: Read/run the rest of the Day 14 Jupyter Notebook for the sections on DummyClassifiers, Precision/Recall curves and ROC curves. There is one line that doesn't work. Remove it. What questions do you have about these concepts/implementations? Write at least two."
   ]
  },
  {
   "cell_type": "markdown",
   "metadata": {},
   "source": [
    "- is it neccesary that y is `y_binary_imbalanced` or can a ROC curve be generated using any continuous/discrete y values.\n",
    "- would multiclass data affect the classifier coefficients?"
   ]
  },
  {
   "cell_type": "code",
   "execution_count": null,
   "metadata": {},
   "outputs": [],
   "source": []
  }
 ],
 "metadata": {
  "kernelspec": {
   "display_name": "Python 3",
   "language": "python",
   "name": "python3"
  },
  "language_info": {
   "codemirror_mode": {
    "name": "ipython",
    "version": 3
   },
   "file_extension": ".py",
   "mimetype": "text/x-python",
   "name": "python",
   "nbconvert_exporter": "python",
   "pygments_lexer": "ipython3",
   "version": "3.6.10"
  }
 },
 "nbformat": 4,
 "nbformat_minor": 2
}
