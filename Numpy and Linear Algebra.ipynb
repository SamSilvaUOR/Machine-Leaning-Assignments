{
 "cells": [
  {
   "cell_type": "markdown",
   "metadata": {},
   "source": [
    "# Assignment due Jan 20 - Numpy and Linear Algebra\n",
    "All questions are weighted the same in this assignment.\n",
    "\n",
    "### For all questions write your own code and comments explaining what your code is doing. Make sure to demonstrate your code working for a few case studies\n"
   ]
  },
  {
   "cell_type": "markdown",
   "metadata": {},
   "source": [
    "# Part 1 - Basics of Linear Algebra"
   ]
  },
  {
   "cell_type": "code",
   "execution_count": 8,
   "metadata": {},
   "outputs": [],
   "source": [
    "import numpy as np\n",
    "import matplotlib.pyplot as plt"
   ]
  },
  {
   "cell_type": "markdown",
   "metadata": {},
   "source": [
    "### Question 1 - Creating Vectors and Matrices\n",
    "\n",
    "In the cell below please create the vectors and matrices as described in the comments."
   ]
  },
  {
   "cell_type": "code",
   "execution_count": 3,
   "metadata": {},
   "outputs": [
    {
     "name": "stdout",
     "output_type": "stream",
     "text": [
      "The original matrix as a column vector:\n",
      " [[1]\n",
      " [2]\n",
      " [3]\n",
      " [4]\n",
      " [5]\n",
      " [6]\n",
      " [7]\n",
      " [8]\n",
      " [9]]\n",
      "row vector of the flipped matrix: [[9 8 7 6 5 4 3 2 1]]\n",
      "The center of the matrix is: 5\n",
      "matrix times column vector = \n",
      " [[14]\n",
      " [32]\n",
      " [50]]\n",
      "Broadcast: \n",
      " [[ 1  2  3]\n",
      " [ 8 10 12]\n",
      " [21 24 27]]\n"
     ]
    }
   ],
   "source": [
    "original_matrix = np.array([[1,2,3],[4,5,6],[7,8,9]])\n",
    "\n",
    "# Create a column vector that contains all of the elements in the original matrix in order\n",
    "col_vec1 = original_matrix.reshape(9,1)\n",
    "print(\"The original matrix as a column vector:\\n\", col_vec1)\n",
    "\n",
    "# Write a command that will help you investigate the use of the numpy.flip command:\n",
    "'''\n",
    "np.flip? #remove single quotes to run\n",
    "'''\n",
    "\n",
    "# Use the flip command to create a row vector that contains all of the elements in the \n",
    "# original matrix in reverse order\n",
    "row_vec1= original_matrix.reshape(1,9)\n",
    "row_vec1 = np.flip(row_vec1)\n",
    "print(\"row vector of the flipped matrix:\", row_vec1)\n",
    "\n",
    "# Find a the scalar that is at the center of the original_matrix\n",
    "scalar = original_matrix[1,1]\n",
    "print(\"The center of the matrix is:\", scalar)\n",
    "\n",
    "\n",
    "# Find the matrix product between the original_matrix and the first three elements of \n",
    "# your column vector\n",
    "mat_prod = np.matmul(original_matrix, col_vec1[:3])\n",
    "print(\"matrix times column vector = \\n\", mat_prod)\n",
    "\n",
    "# use BROADCASTING multiply each column in original_matrix by the first three elements of\n",
    "# your column vector\n",
    "mat_brod = (original_matrix*col_vec1[:3])\n",
    "print(\"Broadcast: \\n\", mat_brod)"
   ]
  },
  {
   "cell_type": "markdown",
   "metadata": {},
   "source": [
    "`np.flip?` brings up information on the flip function from the numpy library. It states that it reverses the order of elements in an array along the given axis.\n",
    "The shape of the array is preserved, but the elements are reordered."
   ]
  },
  {
   "cell_type": "code",
   "execution_count": null,
   "metadata": {},
   "outputs": [],
   "source": []
  },
  {
   "cell_type": "markdown",
   "metadata": {},
   "source": [
    "### Question 2 - Size and Element Operations on a Matrix\n",
    "\n",
    "Write a python functon that takes as an input a 2-D matrix of any size greater than 2X2 and then does the following:\n",
    "\n",
    "- Finds the shape of the input matrix\n",
    "- Cuts down the input matrix into a square matrix by eliminating last rows/cols as needed\n",
    "- Applies a vectorized lambda that adds the number of deleted elements to each element of the square matrix. For example if the input is square you do nothing, if the input is (3,2) you cut off the third row and then add 2 because the third row had 2 elements. \n",
    "- Returns the new matrix"
   ]
  },
  {
   "cell_type": "code",
   "execution_count": 56,
   "metadata": {},
   "outputs": [],
   "source": [
    "def matrix_stuff(A):\n",
    "    shape = A.shape\n",
    "    mat_rows = A.shape[0] \n",
    "    mat_cols = A.shape[1]\n",
    "    \n",
    "    if (mat_rows > mat_cols): # checks if the input matrix has more rows than cols\n",
    "        extra_rows = mat_rows - mat_cols # finds the difference in rows and cols\n",
    "        sqaure_mat = A[:mat_cols, :mat_cols] # slices the input matrix to an NxN sqaure matrix\n",
    "        add_elements = lambda i: i + ((extra_rows*mat_cols)) #takes the extra rows and mult but the number of cols\n",
    "        add_vec = np.vectorize(add_elements) #vectorizes the matrix\n",
    "        return add(square_mat) # returns the NxN matrix\n",
    "    \n",
    "    elif (mat_rows < mat_cols): # same process as above but if cols is more than rows\n",
    "        extra_cols = mat_cols - mat_rows\n",
    "        square_mat = A[:mat_rows, :mat_rows]\n",
    "        add_elements = lambda i: i +(extra_cols * mat_rows)\n",
    "        add_vec = np.vectorize(add_elements)\n",
    "        return add_vec(square_mat)\n",
    "    \n",
    "    else:\n",
    "        return A\n",
    "    \n",
    "#collab with John\n",
    "\n",
    "# Show that your function works for this example and one other\n",
    "A = np.array([[1,2,3],[4,5,6]])\n",
    "B = np.array([[0,2,4,6,8],\n",
    "             [10,12,14,16,18,],\n",
    "             [20,22,24,26,28]])"
   ]
  },
  {
   "cell_type": "code",
   "execution_count": 57,
   "metadata": {},
   "outputs": [
    {
     "name": "stdout",
     "output_type": "stream",
     "text": [
      "For matrix A: \n",
      " [[3 4]\n",
      " [6 7]]\n",
      "For matrix B: \n",
      " [[ 6  8 10]\n",
      " [16 18 20]\n",
      " [26 28 30]]\n"
     ]
    }
   ],
   "source": [
    "# example of matrix_dim\n",
    "#A.shape\n",
    "print(\"For matrix A: \\n\", matrix_stuff(A))\n",
    "print(\"For matrix B: \\n\", matrix_stuff(B))\n",
    "\n"
   ]
  },
  {
   "cell_type": "code",
   "execution_count": null,
   "metadata": {},
   "outputs": [],
   "source": []
  },
  {
   "cell_type": "markdown",
   "metadata": {},
   "source": [
    "### Question 3 - Matrix Operations\n"
   ]
  },
  {
   "cell_type": "code",
   "execution_count": 4,
   "metadata": {},
   "outputs": [],
   "source": [
    "# Given the following definitions\n",
    "A = np.array([[1,2,3],[4,5,6],[7,8,9]])\n",
    "b = np.array([[2],[4],[6]])"
   ]
  },
  {
   "cell_type": "code",
   "execution_count": 5,
   "metadata": {},
   "outputs": [
    {
     "data": {
      "text/plain": [
       "array([[968]])"
      ]
     },
     "execution_count": 5,
     "metadata": {},
     "output_type": "execute_result"
    }
   ],
   "source": [
    "# Explain what the following command does and what the shapes of all the sub elements are.\n",
    "# Does the shape of C make sense to you?\n",
    "\n",
    "C = np.dot( np.add( np.matmul(A,b),b ).T, b )"
   ]
  },
  {
   "cell_type": "markdown",
   "metadata": {},
   "source": [
    "The code first matrix multiples matrix A and b resulting in a 1 by 3 column vector, and then it'll transpose it to a row vector. Next, the code will add b to the new 3 by 1 matrix.  Finally the code will take the dot product and result in a scalar."
   ]
  },
  {
   "cell_type": "code",
   "execution_count": 11,
   "metadata": {},
   "outputs": [
    {
     "name": "stdout",
     "output_type": "stream",
     "text": [
      "A^{-1} = \n",
      " [[ 3.15251974e+15 -6.30503948e+15  3.15251974e+15]\n",
      " [-6.30503948e+15  1.26100790e+16 -6.30503948e+15]\n",
      " [ 3.15251974e+15 -6.30503948e+15  3.15251974e+15]]\n",
      "A^{-1}b = \n",
      " [[ 8.]\n",
      " [-8.]\n",
      " [ 4.]]\n"
     ]
    }
   ],
   "source": [
    "# Assume that you have a linear system defined by Ax=b\n",
    "# Solve this linear system for x\n",
    "\n",
    "Ainv = np.linalg.inv(A)\n",
    "print(\"A^{-1} = \\n\", Ainv)\n",
    "\n",
    "x = np.matmul(Ainv,b)\n",
    "print(\"A^{-1}b = \\n\", x)\n"
   ]
  },
  {
   "cell_type": "markdown",
   "metadata": {},
   "source": [
    "Explanation for solving x when Ax = b where A and b are both matrices:\n",
    "$$Ax = b \\\\\n",
    "A^{-1}Ax = A^{-1}b \\\\\n",
    "Ix = A^{-1}b \\\\\n",
    "x = A^{-1}b$$ "
   ]
  },
  {
   "cell_type": "code",
   "execution_count": 26,
   "metadata": {},
   "outputs": [
    {
     "name": "stdout",
     "output_type": "stream",
     "text": [
      "L2norm = \n",
      " 12.0\n",
      "Frobenius norm = \n",
      " 16.881943016134134\n"
     ]
    }
   ],
   "source": [
    "# Find the L2 norm of the vector x and the Frobenius norm of A\n",
    "L2norm = np.linalg.norm(x)\n",
    "\n",
    "FrobA = np.linalg.norm(A)\n",
    "\n",
    "print(\"L2norm = \\n\", L2norm)\n",
    "print(\"Frobenius norm = \\n\", FrobA)"
   ]
  },
  {
   "cell_type": "code",
   "execution_count": null,
   "metadata": {},
   "outputs": [],
   "source": []
  },
  {
   "cell_type": "code",
   "execution_count": null,
   "metadata": {},
   "outputs": [],
   "source": []
  },
  {
   "cell_type": "code",
   "execution_count": null,
   "metadata": {},
   "outputs": [],
   "source": []
  },
  {
   "cell_type": "markdown",
   "metadata": {},
   "source": [
    "# Part 2 - Principle Component Analysis \n",
    "### (a very basic walkthrough - mostly just to practice python!)\n",
    "\n",
    "This follows the example from: https://plot.ly/python/v3/ipython-notebooks/principal-component-analysis/\n",
    "\n",
    "The basic idea is:\n",
    "\n",
    "1. Find the covariance matrix for your data\n",
    "2. Calculate the eigenvales and vectors for the covariance matrix\n",
    "3. Create a matrix D that contains just the eigenvectors corresponding to the largest eigenvalues\n",
    "4. Do a matrix multiplication c = Dx to project your data onto a smaller space\n",
    "5. Plot the new data and look for trends\n"
   ]
  },
  {
   "cell_type": "code",
   "execution_count": 12,
   "metadata": {},
   "outputs": [
    {
     "name": "stdout",
     "output_type": "stream",
     "text": [
      "   sepal_len  sepal_wid  petal_len  petal_wid        class\n",
      "0        5.1        3.5        1.4        0.2  Iris-setosa\n",
      "1        4.9        3.0        1.4        0.2  Iris-setosa\n",
      "2        4.7        3.2        1.3        0.2  Iris-setosa\n",
      "3        4.6        3.1        1.5        0.2  Iris-setosa\n",
      "4        5.0        3.6        1.4        0.2  Iris-setosa\n",
      "     sepal_len  sepal_wid  petal_len  petal_wid           class\n",
      "145        6.7        3.0        5.2        2.3  Iris-virginica\n",
      "146        6.3        2.5        5.0        1.9  Iris-virginica\n",
      "147        6.5        3.0        5.2        2.0  Iris-virginica\n",
      "148        6.2        3.4        5.4        2.3  Iris-virginica\n",
      "149        5.9        3.0        5.1        1.8  Iris-virginica\n"
     ]
    }
   ],
   "source": [
    "# First use pandas to import and look at the data set\n",
    "import pandas as pd\n",
    "\n",
    "df = pd.read_csv(\n",
    "    filepath_or_buffer='https://archive.ics.uci.edu/ml/machine-learning-databases/iris/iris.data', \n",
    "    header=None, \n",
    "    sep=',')\n",
    "\n",
    "df.columns=['sepal_len', 'sepal_wid', 'petal_len', 'petal_wid', 'class']\n",
    "df.dropna(how=\"all\", inplace=True) # drops the empty line at file-end\n",
    "\n",
    "\n",
    "# Print out the first few and last few rows of the data frame:\n",
    "print(df.head())\n",
    "print(df.tail())"
   ]
  },
  {
   "cell_type": "markdown",
   "metadata": {},
   "source": [
    "The iris dataset that we just imported contains measurements for 150 iris flowers from three different species.\n",
    "\n",
    "The three classes or species in the Iris dataset are:\n",
    "\n",
    "    Iris-setosa (n=50)\n",
    "    Iris-versicolor (n=50)\n",
    "    Iris-virginica (n=50)\n",
    "\n",
    "And the four features of in Iris dataset are:\n",
    "\n",
    "    sepal length in cm\n",
    "    sepal width in cm\n",
    "    petal length in cm\n",
    "    petal width in cm\n",
    "    \n",
    "We are going to do an analysis of this data set as parts of the next questions"
   ]
  },
  {
   "cell_type": "code",
   "execution_count": null,
   "metadata": {},
   "outputs": [],
   "source": []
  },
  {
   "cell_type": "code",
   "execution_count": null,
   "metadata": {},
   "outputs": [],
   "source": []
  },
  {
   "cell_type": "markdown",
   "metadata": {},
   "source": [
    "### Question 1\n",
    "\n",
    "Create two numpy arrays:\n",
    "- X should contain all of the data in the first four columns of the data set\n",
    "- Y should contain the labels in the last column of the data set\n",
    "\n",
    "#### NOTE: The rows of X are called feature vectors. Each row corresponds to all of the data in one flower obervation."
   ]
  },
  {
   "cell_type": "code",
   "execution_count": 58,
   "metadata": {},
   "outputs": [],
   "source": [
    "df_array = np.array(df)\n",
    "X = df_array[:,:4]\n",
    "Y = df_array[:,-1]"
   ]
  },
  {
   "cell_type": "code",
   "execution_count": 15,
   "metadata": {},
   "outputs": [
    {
     "name": "stdout",
     "output_type": "stream",
     "text": [
      "The shape of the X array is: \n",
      " (150, 4) \n",
      " The type of the X array is: \n",
      " <class 'numpy.ndarray'>\n",
      "The shape of the Y array is: \n",
      " (150,) \n",
      " The type of the Y array is: \n",
      " <class 'numpy.ndarray'>\n"
     ]
    }
   ],
   "source": [
    "# Check the shape and type of the arrays that you just created - print this out\n",
    "print(\"The shape of the X array is: \\n\", np.shape(X), \n",
    "      \"\\n The type of the X array is: \\n\", type(X))\n",
    "print(\"The shape of the Y array is: \\n\", np.shape(Y), \n",
    "      \"\\n The type of the Y array is: \\n\", type(Y))"
   ]
  },
  {
   "cell_type": "code",
   "execution_count": null,
   "metadata": {},
   "outputs": [],
   "source": []
  },
  {
   "cell_type": "code",
   "execution_count": null,
   "metadata": {},
   "outputs": [],
   "source": []
  },
  {
   "cell_type": "markdown",
   "metadata": {},
   "source": [
    "### Question 2 - ALWAYS explore your data before doing anything else!\n",
    "\n",
    "Below is code that uses matplotlib to plot histograms for our data. Please comment the code to explain what each line is doing. Then explore the plots and answer the final question below.\n"
   ]
  },
  {
   "cell_type": "code",
   "execution_count": 16,
   "metadata": {},
   "outputs": [
    {
     "data": {
      "image/png": "[encoded data removed]",
      "text/plain": [
       "<Figure size 432x288 with 1 Axes>"
      ]
     },
     "metadata": {
      "needs_background": "light"
     },
     "output_type": "display_data"
    },
    {
     "data": {
      "image/png": "[encoded data removed]",
      "text/plain": [
       "<Figure size 432x288 with 1 Axes>"
      ]
     },
     "metadata": {
      "needs_background": "light"
     },
     "output_type": "display_data"
    },
    {
     "data": {
      "image/png": "[encoded data removed]",
      "text/plain": [
       "<Figure size 432x288 with 1 Axes>"
      ]
     },
     "metadata": {
      "needs_background": "light"
     },
     "output_type": "display_data"
    },
    {
     "data": {
      "image/png": "[encoded data removed]",
      "text/plain": [
       "<Figure size 432x288 with 1 Axes>"
      ]
     },
     "metadata": {
      "needs_background": "light"
     },
     "output_type": "display_data"
    }
   ],
   "source": [
    "import matplotlib.pyplot as plt\n",
    "import numpy as np\n",
    "\n",
    "features = ['sepal length in cm', 'sepal width in cm', 'petal length in cm', 'petal width in cm'] # pulls data for each plot based on name\n",
    "colors = ['Iris-setosa','Iris-versicolor','Iris-virginica'] # creates list from the indexes of colors from the data frame\n",
    "\n",
    "for col in range(4): # range(4) first 4 cases of data\n",
    "    loc = 0 # start at 0 on x-axis\n",
    "    for key in colors: # for loop that loops over the color keys in the dict.\n",
    "        hist_data = X[Y==key, col] # taking X array and giving it the color/flower keys from array Y\n",
    "        bins = np.linspace(0,np.max(hist_data),10) # provides the number of bins and the width of the bins\n",
    "        plt.hist(hist_data, bins, alpha=0.5, label=colors[loc]) # plotting the hist where alpha effects the transperancy and the label can be used in the legend\n",
    "        plt.legend(loc='upper right') # show legend in upper right \n",
    "        plt.title(features[col]) # show title \n",
    "        loc +=1 #increment the x-axis from 0 going up +1\n",
    "        \n",
    "    plt.show() # show figure"
   ]
  },
  {
   "cell_type": "markdown",
   "metadata": {},
   "source": [
    "#### Are there any of the four features that seem to really help in telling the types of flowers apart (classifying them)? Are there some that seem less important?"
   ]
  },
  {
   "cell_type": "markdown",
   "metadata": {},
   "source": [
    "Color seems like an important feature that can be used to distinguish between the different types of flowers.  If all flowers were the same color it would be nearly impossible to see any overlap or flower types.  In addition the transperancy (alpha) of the bars seem helpful to see overlap."
   ]
  },
  {
   "cell_type": "markdown",
   "metadata": {},
   "source": [
    "The width of the bins is one of the less important features of the histogram as long as the ratio on the x-axis remains the same."
   ]
  },
  {
   "cell_type": "markdown",
   "metadata": {},
   "source": [
    "### Question 3\n",
    "\n",
    "Now we get into the method of Principle Component Analysis (PCA)\n",
    "\n",
    "Here is a link for more information:\n",
    "https://builtin.com/data-science/step-step-explanation-principal-component-analysis"
   ]
  },
  {
   "cell_type": "markdown",
   "metadata": {},
   "source": [
    "First we need to standardize the data. We will talk more about why this is important (later in class) but the basic idea is that we want all of our feature data to be over about the same scales. In general this means we want to measure all the data with the same lenght measuring stick, so if some data is in miles and other data is in cm, it is hard to comare the variation of effects directly."
   ]
  },
  {
   "cell_type": "code",
   "execution_count": 39,
   "metadata": {},
   "outputs": [],
   "source": [
    "# You don't need to do anything here - just run the cell\n",
    "from sklearn.preprocessing import StandardScaler\n",
    "X_std = StandardScaler().fit_transform(X)"
   ]
  },
  {
   "cell_type": "code",
   "execution_count": 42,
   "metadata": {},
   "outputs": [
    {
     "name": "stdout",
     "output_type": "stream",
     "text": [
      "(150, 4)\n",
      "NumPy covariance matrix: \n",
      "[[ 1.00671141 -0.11010327  0.87760486  0.82344326]\n",
      " [-0.11010327  1.00671141 -0.42333835 -0.358937  ]\n",
      " [ 0.87760486 -0.42333835  1.00671141  0.96921855]\n",
      " [ 0.82344326 -0.358937    0.96921855  1.00671141]]\n"
     ]
    }
   ],
   "source": [
    "# Find the covariance matrix of the standardized matrix X_std\n",
    "cov_mat = np.cov(X_std.T) # transpose the matrix so we can get a normal matrix\n",
    "print(np.shape(X_std))\n",
    "print('NumPy covariance matrix: \\n%s' %cov_mat)\n"
   ]
  },
  {
   "cell_type": "code",
   "execution_count": 43,
   "metadata": {},
   "outputs": [
    {
     "name": "stdout",
     "output_type": "stream",
     "text": [
      "Eigenvectors \n",
      "[[ 0.52237162 -0.37231836 -0.72101681  0.26199559]\n",
      " [-0.26335492 -0.92555649  0.24203288 -0.12413481]\n",
      " [ 0.58125401 -0.02109478  0.14089226 -0.80115427]\n",
      " [ 0.56561105 -0.06541577  0.6338014   0.52354627]]\n",
      "\n",
      "Eigenvalues \n",
      "[2.93035378 0.92740362 0.14834223 0.02074601]\n"
     ]
    }
   ],
   "source": [
    "# Find the eigenvalues and Eigenvectors of the covariance matrix\n",
    "\n",
    "eig_vals, eig_vecs = np.linalg.eig(cov_mat)\n",
    "\n",
    "print('Eigenvectors \\n%s' %eig_vecs)\n",
    "print('\\nEigenvalues \\n%s' %eig_vals)"
   ]
  },
  {
   "cell_type": "code",
   "execution_count": 44,
   "metadata": {},
   "outputs": [],
   "source": [
    "# Now we will keep just the first two principle components corresponding to the \n",
    "# largest two eigenvalues (here we look at the largest absolute value)\n",
    "# What we are doing here is defining new asis along which there is the largest variance\n",
    "\n",
    "# Define V1 to be the eigenvector corresponding to the largest eigenvalue\n",
    "    ## could write as first column of the matrix\n",
    "V1 = np.array([0.52237162, -0.26335492, 0.58125401, 0.56561105])\n",
    "\n",
    "# Define V2 to be the eigenvector corresponding to the second largest eigenvalue\n",
    "    ## could write as second column of the matrix \n",
    "V2 = np.array([-0.37231836, -0.92555649, -0.02109478, -0.06541577])"
   ]
  },
  {
   "cell_type": "code",
   "execution_count": 61,
   "metadata": {},
   "outputs": [
    {
     "name": "stdout",
     "output_type": "stream",
     "text": [
      "shape is: \n",
      " (4, 2)\n",
      "[[ 0.52237162 -0.37231836]\n",
      " [-0.26335492 -0.92555649]\n",
      " [ 0.58125401 -0.02109478]\n",
      " [ 0.56561105 -0.06541577]]\n"
     ]
    }
   ],
   "source": [
    "# Create an np.array that contains V1 and V2 along the columns\n",
    "# This array should be a 4x2 matrix!\n",
    "\n",
    "D = np.array([V1,V2]).T\n",
    "print(\"shape is: \\n\", np.shape(D))\n",
    "print(D)\n"
   ]
  },
  {
   "cell_type": "code",
   "execution_count": 64,
   "metadata": {},
   "outputs": [
    {
     "name": "stdout",
     "output_type": "stream",
     "text": [
      "(150, 2)\n",
      "The shape of D is: \n",
      " (4, 2)\n"
     ]
    }
   ],
   "source": [
    "# Write code that does the dimensionality reduction by multiplying D times each of \n",
    "# the feature vectors. Literally this means doing D times each row in X_std\n",
    "\n",
    "# We can do this using broadcasting which applies the dot product to each column\n",
    "NewX = np.dot(X_std,D)\n",
    "print(np.shape(NewX))\n",
    "# What is the shape of D?\n",
    "print(\"The shape of D is: \\n\", np.shape(D))    ## D is a 4x2 matrix\n",
    "# What is the shape of each feature vector?\n",
    "    ## the shape of each feature vector is 2D\n",
    "# What is the shape of NewX? Does this make sense?\n",
    "    ## NewX is 150x2,this makes sense due to the dot product operation since the matrix takes the rows of the first matrix and the columns and multiples and sums the rows."
   ]
  },
  {
   "cell_type": "code",
   "execution_count": 65,
   "metadata": {},
   "outputs": [
    {
     "data": {
      "image/png": "[encoded data removed]",
      "text/plain": [
       "<Figure size 720x576 with 1 Axes>"
      ]
     },
     "metadata": {
      "needs_background": "light"
     },
     "output_type": "display_data"
    }
   ],
   "source": [
    "# Now lets plot the new space and see if our irises are easier to classify \n",
    "# Just run the cell - but add comments to show that you know what it does\n",
    "\n",
    "features = ['PC1', 'PC2'] # the data, similar to coordinate pairs\n",
    "colors = ['Iris-setosa','Iris-versicolor','Iris-virginica'] # three types of flowers (acting like identification)\n",
    "pltcol = ['r','b','m'] #gives color to the data point of its respective flower\n",
    "\n",
    "# Scatter Plot\n",
    "plt.figure(figsize=(10, 8)) # width and height of the figure\n",
    "\n",
    "loc=0 # location on x-axis\n",
    "for key in colors:\n",
    "    X_data = NewX[Y==key, 0] # the X data from NewX for when the \n",
    "    Y_data = NewX[Y==key, 1] # the Y data from NewY for when the \n",
    "    plt.plot(X_data, Y_data, 'o', color=pltcol[loc]) # plot the x and y data with a marker 'o' and the colors given from the pltcol line\n",
    "    loc += 1 #increments of 1\n",
    "        \n",
    "\n",
    "plt.show() # show plot"
   ]
  },
  {
   "cell_type": "markdown",
   "metadata": {},
   "source": [
    "#### Can you see a clear separation of the data here? You can imagine that it would be easier for us or for a machine to figure out which class the flower belongs to."
   ]
  },
  {
   "cell_type": "markdown",
   "metadata": {},
   "source": [
    "I can see the seperation of the data since the points are different colors.  But if they were all the same color or label then I would only see two distinct groups because of the white space in between the groups."
   ]
  },
  {
   "cell_type": "code",
   "execution_count": null,
   "metadata": {},
   "outputs": [],
   "source": []
  },
  {
   "cell_type": "code",
   "execution_count": null,
   "metadata": {},
   "outputs": [],
   "source": []
  },
  {
   "cell_type": "markdown",
   "metadata": {},
   "source": [
    "# Part 3 - Explore numpy!\n",
    "\n",
    "Below are a few more useful commands. Use the ? help to see if you can figure out what the commands do. Show how you might use them\n",
    "\n"
   ]
  },
  {
   "cell_type": "code",
   "execution_count": null,
   "metadata": {},
   "outputs": [],
   "source": [
    "#np.empty?"
   ]
  },
  {
   "cell_type": "markdown",
   "metadata": {},
   "source": [
    "`np.empy?` states that the function return a new array of given shape and type, without initializing entries. The array of uninitialized (arbitrary) data of the given shape, dtype, and order. However, an object arrays will be initialized to `None`."
   ]
  },
  {
   "cell_type": "code",
   "execution_count": 18,
   "metadata": {},
   "outputs": [
    {
     "data": {
      "text/plain": [
       "array([[72.,  0.,  0.],\n",
       "       [ 0., 72.,  0.],\n",
       "       [ 0.,  0.,  1.]])"
      ]
     },
     "execution_count": 18,
     "metadata": {},
     "output_type": "execute_result"
    }
   ],
   "source": [
    "#example of np.empty\n",
    "np.empty([3,3]) #can use dtype to change the output type"
   ]
  },
  {
   "cell_type": "code",
   "execution_count": null,
   "metadata": {},
   "outputs": [],
   "source": [
    "#np.zeros?"
   ]
  },
  {
   "cell_type": "markdown",
   "metadata": {},
   "source": [
    "`np.zeros` returns a new array setting values to zero."
   ]
  },
  {
   "cell_type": "code",
   "execution_count": 35,
   "metadata": {},
   "outputs": [
    {
     "name": "stdout",
     "output_type": "stream",
     "text": [
      "[[0. 0. 0.]\n",
      " [0. 0. 0.]\n",
      " [0. 0. 0.]]\n",
      "<class 'numpy.ndarray'>\n"
     ]
    }
   ],
   "source": [
    "#example of np.zeros\n",
    "zero_example = np.zeros([3,3])\n",
    "print(zero_example)\n",
    "print(type(zero_example))"
   ]
  },
  {
   "cell_type": "code",
   "execution_count": null,
   "metadata": {},
   "outputs": [],
   "source": [
    "#np.zeros_like?"
   ]
  },
  {
   "cell_type": "markdown",
   "metadata": {},
   "source": [
    "`np.zeros_like` returns an array of zeros with the same shape and type as a given array."
   ]
  },
  {
   "cell_type": "code",
   "execution_count": 31,
   "metadata": {},
   "outputs": [
    {
     "name": "stdout",
     "output_type": "stream",
     "text": [
      "mat_example type: \n",
      " <class 'numpy.ndarray'>\n",
      "mat_example_zero type: \n",
      " <class 'numpy.ndarray'>\n"
     ]
    }
   ],
   "source": [
    "mat_example = np.array([[1,2,3],\n",
    "                      [4,5,6],\n",
    "                      [7,8,9]])\n",
    "print(\"mat_example type: \\n\", type(mat_example))\n",
    "mat_example_zero = np.zeros_like(mat_example)\n",
    "print(\"mat_example_zero type: \\n\", type(mat_example_zero))"
   ]
  },
  {
   "cell_type": "code",
   "execution_count": null,
   "metadata": {},
   "outputs": [],
   "source": [
    "#np.diag?"
   ]
  },
  {
   "cell_type": "markdown",
   "metadata": {},
   "source": [
    "`np.diag` will extract a diagonal or construct a diagonal array.  If you input a 2-D array, v, it will return a copy of its k-th diagonal. If v is a 1-D array, it returns a 2-D array with v on the k-th diagonal."
   ]
  },
  {
   "cell_type": "code",
   "execution_count": 36,
   "metadata": {},
   "outputs": [
    {
     "data": {
      "text/plain": [
       "array([1, 5, 9])"
      ]
     },
     "execution_count": 36,
     "metadata": {},
     "output_type": "execute_result"
    }
   ],
   "source": [
    "# np.diag example\n",
    "np.diag(mat_example)"
   ]
  },
  {
   "cell_type": "code",
   "execution_count": null,
   "metadata": {},
   "outputs": [],
   "source": [
    "#np.eye?"
   ]
  },
  {
   "cell_type": "markdown",
   "metadata": {},
   "source": [
    "`np.eye` returns a 2-D array with ones on the diagonal and zeros elsewhere.  \\\n",
    "Its input N is an int which represents the number of rows in the output. \\\n",
    "M is an optional int representing the Number of columns in the output. If None, defaults to N. \\\n",
    "Another optiontal input is k which is the index of the diagonal: 0 (the default) refers to the main diagonal, a positive value refers to an upper diagonal, and a negative value to a lower diagonal."
   ]
  },
  {
   "cell_type": "code",
   "execution_count": 38,
   "metadata": {},
   "outputs": [
    {
     "data": {
      "text/plain": [
       "array([[1., 0., 0., 0.],\n",
       "       [0., 1., 0., 0.],\n",
       "       [0., 0., 1., 0.],\n",
       "       [0., 0., 0., 1.]])"
      ]
     },
     "execution_count": 38,
     "metadata": {},
     "output_type": "execute_result"
    }
   ],
   "source": [
    "np.eye(4) # makes identity matrix??"
   ]
  },
  {
   "cell_type": "markdown",
   "metadata": {},
   "source": [
    "Here is another cheat sheet: https://www.dataquest.io/blog/numpy-cheat-sheet/"
   ]
  },
  {
   "cell_type": "markdown",
   "metadata": {},
   "source": [
    "Are there any other numpy commands that seem really useful or interesting to you?"
   ]
  },
  {
   "cell_type": "markdown",
   "metadata": {},
   "source": [
    "I found `np.linspace` useful in my physics classes which just returns evenly spaced numbers over a specified interval.\n",
    "Not so much a command, but the SciPy package was also helpful in some situations so I'm starting to see how it could also be used here for matrix and array operations."
   ]
  },
  {
   "cell_type": "code",
   "execution_count": null,
   "metadata": {},
   "outputs": [],
   "source": []
  }
 ],
 "metadata": {
  "anaconda-cloud": {},
  "coursera": {
   "course_slug": "python-data-analysis",
   "graded_item_id": "tHmgx",
   "launcher_item_id": "Um6Bz",
   "part_id": "OQsnr"
  },
  "kernelspec": {
   "display_name": "Python 3",
   "language": "python",
   "name": "python3"
  },
  "language_info": {
   "codemirror_mode": {
    "name": "ipython",
    "version": 3
   },
   "file_extension": ".py",
   "mimetype": "text/x-python",
   "name": "python",
   "nbconvert_exporter": "python",
   "pygments_lexer": "ipython3",
   "version": "3.6.10"
  },
  "umich": {
   "id": "Assignment 2",
   "version": "1.2"
  }
 },
 "nbformat": 4,
 "nbformat_minor": 1
}
