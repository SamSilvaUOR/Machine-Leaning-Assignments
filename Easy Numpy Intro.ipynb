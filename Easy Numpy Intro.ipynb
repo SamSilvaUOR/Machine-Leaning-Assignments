{
 "cells": [
  {
   "cell_type": "markdown",
   "metadata": {},
   "source": [
    "# Introduction to NumPy and Review of Linear Algebra\n",
    "\n",
    "Numpy is a library for Python that allows us to caryoug computations of large, multi-dimensional arrays. It contains lots of mathematical functions that are useful for operating on arrays."
   ]
  },
  {
   "cell_type": "code",
   "execution_count": 5,
   "metadata": {},
   "outputs": [],
   "source": [
    "# Import the library\n",
    "import numpy as np"
   ]
  },
  {
   "cell_type": "markdown",
   "metadata": {},
   "source": [
    "# Scalars\n",
    "\n",
    "Theses are just single numbers denoted by lower case constants. In this course we mostly assume real numbers\n",
    "\n",
    "$$ a, b, c, d \\in \\mathbb{R} $$"
   ]
  },
  {
   "cell_type": "markdown",
   "metadata": {},
   "source": [
    "## Vectors\n",
    "\n",
    "Vectors are 1-D arrays of scalars denoted by bold face lowercase letters\n",
    "\n",
    "$$ \\mathbf{x} = \\left[\\begin{array}{@{}c@{}}\n",
    "    a \\\\\n",
    "    b \\\\\n",
    "    c \n",
    "    \\end{array} \\right] $$\n",
    "    \n",
    "We think of vectors as identifying a point in n-dimensional space.\n",
    "\n",
    "$$ \\mathbf{x} \\in \\mathbb{R}^n $$"
   ]
  },
  {
   "cell_type": "code",
   "execution_count": 6,
   "metadata": {},
   "outputs": [
    {
     "name": "stdout",
     "output_type": "stream",
     "text": [
      "Row vector:\n",
      " [3 6 7 2] \n",
      "Column vector:\n",
      " [[3]\n",
      " [6]\n",
      " [7]\n",
      " [2]]\n"
     ]
    }
   ],
   "source": [
    "# Creating vectors in NumPy:\n",
    "\n",
    "# Row vectors:\n",
    "ROW = np.array([3, 6, 7, 2])\n",
    "\n",
    "# Column vectors:\n",
    "COL = np.array([[3],[6],[7],[2]])\n",
    "\n",
    "print(\"Row vector:\\n\", ROW, \"\\nColumn vector:\\n\", COL)"
   ]
  },
  {
   "cell_type": "markdown",
   "metadata": {},
   "source": [
    "## Matrix\n",
    "\n",
    "A matrix is a 2-D array of numbers denoted by bold face uppercase letters\n",
    "\n",
    "$$ \\mathbf{A} = \\left[\\begin{array}{@{}c,c@{}}\n",
    "    a & b \\\\\n",
    "    c & d\n",
    "    \\end{array} \\right] $$\n",
    "    \n",
    "In general, a matrix does not have to be square:\n",
    "\n",
    "$$ \\mathbf{A} \\in \\mathbb{R}^{m\\times n} $$\n"
   ]
  },
  {
   "cell_type": "code",
   "execution_count": 7,
   "metadata": {},
   "outputs": [
    {
     "name": "stdout",
     "output_type": "stream",
     "text": [
      "This is a 2 by 4 matrix:\n",
      " [[3 6 7 2]\n",
      " [1 2 3 4]]\n"
     ]
    }
   ],
   "source": [
    "# Creating a matrix in Numpy:\n",
    "\n",
    "MAT = np.array([[3,6,7,2],[1,2,3,4]])\n",
    "print(\"This is a 2 by 4 matrix:\\n\", MAT)"
   ]
  },
  {
   "cell_type": "markdown",
   "metadata": {},
   "source": [
    "## Selecting Elements in a Vector or Matrix\n",
    "\n",
    "We defined ROW, COL, and MAT above. Let's interact with these things!"
   ]
  },
  {
   "cell_type": "code",
   "execution_count": 8,
   "metadata": {},
   "outputs": [
    {
     "name": "stdout",
     "output_type": "stream",
     "text": [
      "ROW:\n",
      " [3 6 7 2]\n",
      "COL:\n",
      " [[3]\n",
      " [6]\n",
      " [7]\n",
      " [2]]\n",
      "MAT:\n",
      " [[3 6 7 2]\n",
      " [1 2 3 4]]\n"
     ]
    }
   ],
   "source": [
    "print('ROW:\\n', ROW)\n",
    "print('COL:\\n', COL)\n",
    "print('MAT:\\n', MAT)"
   ]
  },
  {
   "cell_type": "code",
   "execution_count": 9,
   "metadata": {},
   "outputs": [
    {
     "name": "stdout",
     "output_type": "stream",
     "text": [
      "6\n"
     ]
    }
   ],
   "source": [
    "# Element of a vector\n",
    "print(ROW[1])"
   ]
  },
  {
   "cell_type": "raw",
   "metadata": {},
   "source": [
    "Remember we index from zero!"
   ]
  },
  {
   "cell_type": "code",
   "execution_count": 10,
   "metadata": {},
   "outputs": [
    {
     "name": "stdout",
     "output_type": "stream",
     "text": [
      "2\n"
     ]
    }
   ],
   "source": [
    "# Element of a matrix\n",
    "print(MAT[1,1])"
   ]
  },
  {
   "cell_type": "code",
   "execution_count": 11,
   "metadata": {},
   "outputs": [
    {
     "name": "stdout",
     "output_type": "stream",
     "text": [
      "[[3]\n",
      " [6]\n",
      " [7]\n",
      " [2]]\n"
     ]
    }
   ],
   "source": [
    "# All elements of a vector\n",
    "print(COL[:])"
   ]
  },
  {
   "cell_type": "code",
   "execution_count": 12,
   "metadata": {},
   "outputs": [
    {
     "name": "stdout",
     "output_type": "stream",
     "text": [
      "[[3]\n",
      " [6]\n",
      " [7]]\n"
     ]
    }
   ],
   "source": [
    "# First three elements of a vector\n",
    "print(COL[:3])"
   ]
  },
  {
   "cell_type": "markdown",
   "metadata": {},
   "source": [
    "Here : 3 means up to and including the third element"
   ]
  },
  {
   "cell_type": "code",
   "execution_count": 13,
   "metadata": {},
   "outputs": [
    {
     "name": "stdout",
     "output_type": "stream",
     "text": [
      "[7 2]\n"
     ]
    }
   ],
   "source": [
    "# Everything after element 2 in the vector\n",
    "print(ROW[2:])"
   ]
  },
  {
   "cell_type": "markdown",
   "metadata": {},
   "source": [
    "It is important to keep track of both the size and the shape of the outputs!!"
   ]
  },
  {
   "cell_type": "code",
   "execution_count": 14,
   "metadata": {},
   "outputs": [
    {
     "name": "stdout",
     "output_type": "stream",
     "text": [
      "[[3 6 7 2]]\n"
     ]
    }
   ],
   "source": [
    "# First rows and all columns of the matrix\n",
    "print(MAT[:1,:])"
   ]
  },
  {
   "cell_type": "code",
   "execution_count": 15,
   "metadata": {},
   "outputs": [
    {
     "name": "stdout",
     "output_type": "stream",
     "text": [
      "[[7]\n",
      " [3]]\n"
     ]
    }
   ],
   "source": [
    "# What will the following command do?\n",
    "print(MAT[:,COL[-1]])"
   ]
  },
  {
   "cell_type": "code",
   "execution_count": 16,
   "metadata": {},
   "outputs": [
    {
     "name": "stdout",
     "output_type": "stream",
     "text": [
      "[2 3]\n"
     ]
    }
   ],
   "source": [
    "# What will the following command do?\n",
    "print(MAT[-1,1:3])"
   ]
  },
  {
   "cell_type": "markdown",
   "metadata": {},
   "source": [
    "## Learning about a matrix\n",
    "\n",
    "Sometimes you need to access the dimensions of the matrix. There are quick commands for this!"
   ]
  },
  {
   "cell_type": "code",
   "execution_count": 17,
   "metadata": {},
   "outputs": [
    {
     "name": "stdout",
     "output_type": "stream",
     "text": [
      "(2, 4)\n"
     ]
    }
   ],
   "source": [
    "# See the size of a matrix: (rows, columns)\n",
    "SIZE = MAT.shape\n",
    "print(SIZE) #rows,columns"
   ]
  },
  {
   "cell_type": "code",
   "execution_count": 18,
   "metadata": {},
   "outputs": [
    {
     "name": "stdout",
     "output_type": "stream",
     "text": [
      "8\n"
     ]
    }
   ],
   "source": [
    "# See the number of elements\n",
    "print(MAT.size)"
   ]
  },
  {
   "cell_type": "code",
   "execution_count": 19,
   "metadata": {},
   "outputs": [
    {
     "name": "stdout",
     "output_type": "stream",
     "text": [
      "2\n"
     ]
    }
   ],
   "source": [
    "# See the number of dimensions\n",
    "print(MAT.ndim)"
   ]
  },
  {
   "cell_type": "markdown",
   "metadata": {},
   "source": [
    "## Tensors\n",
    "\n",
    "Tensors are a revtangular grid of numbers that are allowed to have a variable numnber of axis. For example a 3-D matrix is a tensor who's elements would be \n",
    "\n",
    "$$ A_{i,j,k} $$"
   ]
  },
  {
   "cell_type": "code",
   "execution_count": 20,
   "metadata": {},
   "outputs": [
    {
     "name": "stdout",
     "output_type": "stream",
     "text": [
      "3\n"
     ]
    }
   ],
   "source": [
    "# Define a tensor\n",
    "MAT2 = np.array([[30,60,70,20],[10,20,30,40]])\n",
    "TENS = np.array([MAT, MAT2])\n",
    "print(TENS.ndim)"
   ]
  },
  {
   "cell_type": "code",
   "execution_count": 21,
   "metadata": {},
   "outputs": [
    {
     "name": "stdout",
     "output_type": "stream",
     "text": [
      "[[[ 3  6  7  2]\n",
      "  [ 1  2  3  4]]\n",
      "\n",
      " [[30 60 70 20]\n",
      "  [10 20 30 40]]]\n",
      "The element in the first row, third column, second layer is:\n",
      " 70\n"
     ]
    }
   ],
   "source": [
    "# You can access the elements in a similar way\n",
    "print(TENS)\n",
    "print('The element in the first row, third column, second layer is:\\n', TENS[1,0,2]) #layer,row,column\n",
    "\n",
    "# Here the order goes TENS[layer_num, row, col]"
   ]
  },
  {
   "cell_type": "markdown",
   "metadata": {},
   "source": [
    "## Matrix Operations:\n",
    "\n",
    "- element operations\n",
    "- max and min values\n",
    "- statistics\n",
    "- transpose\n",
    "- rehape\n",
    "- addition\n",
    "- multiplication\n",
    "- inverse and linear systems\n",
    "- norms\n",
    "- eigenvalues\n",
    "- extra"
   ]
  },
  {
   "cell_type": "markdown",
   "metadata": {},
   "source": [
    "<h3> Element Operations </h3>"
   ]
  },
  {
   "cell_type": "code",
   "execution_count": 22,
   "metadata": {},
   "outputs": [
    {
     "name": "stdout",
     "output_type": "stream",
     "text": [
      "[[3 6 7 2]\n",
      " [1 2 3 4]]\n",
      "Hey look! We added 20:\n",
      " [[23 26 27 22]\n",
      " [21 22 23 24]]\n"
     ]
    }
   ],
   "source": [
    "# To apply an operation to multiple elements in an array you need np.vectorize\n",
    "print(MAT)\n",
    "\n",
    "# Create a function that does something\n",
    "add_20 = lambda i: i+20\n",
    "\n",
    "# Then vectorize it\n",
    "vec_add_20 = np.vectorize(add_20)\n",
    "\n",
    "# Finally use the function on the matrix\n",
    "print('Hey look! We added 20:\\n', vec_add_20(MAT))"
   ]
  },
  {
   "cell_type": "markdown",
   "metadata": {},
   "source": [
    "<h3> Max and Min </h3>"
   ]
  },
  {
   "cell_type": "code",
   "execution_count": 23,
   "metadata": {},
   "outputs": [
    {
     "name": "stdout",
     "output_type": "stream",
     "text": [
      "7\n",
      "1\n"
     ]
    }
   ],
   "source": [
    "# Finding the Max and Min Values Overall\n",
    "print(np.max(MAT))\n",
    "print(np.min(MAT))"
   ]
  },
  {
   "cell_type": "code",
   "execution_count": 24,
   "metadata": {},
   "outputs": [
    {
     "name": "stdout",
     "output_type": "stream",
     "text": [
      "[3 6 7 4]\n",
      "[7 4]\n"
     ]
    }
   ],
   "source": [
    "# Finding the Max and Min Values for each\n",
    "\n",
    "# Column\n",
    "print(np.max(MAT,axis=0))\n",
    "\n",
    "# Row\n",
    "print(np.max(MAT,axis=1))"
   ]
  },
  {
   "cell_type": "markdown",
   "metadata": {},
   "source": [
    "<h3> Statistics </h3>"
   ]
  },
  {
   "cell_type": "code",
   "execution_count": 25,
   "metadata": {},
   "outputs": [
    {
     "name": "stdout",
     "output_type": "stream",
     "text": [
      "3.5\n",
      "[4.5 2.5]\n",
      "1.9364916731037085\n",
      "3.75\n",
      "[[ 5.66666667 -0.33333333]\n",
      " [-0.33333333  1.66666667]]\n"
     ]
    }
   ],
   "source": [
    "# Some helpful Statistical tools\n",
    "\n",
    "# Average\n",
    "print(np.mean(MAT))\n",
    "print(np.mean(MAT,axis=1))\n",
    "\n",
    "# Standard Dev\n",
    "print(np.std(MAT))\n",
    "\n",
    "# Variance\n",
    "print(np.var(MAT))\n",
    "\n",
    "# Covariance\n",
    "print(np.cov(MAT))"
   ]
  },
  {
   "cell_type": "code",
   "execution_count": 26,
   "metadata": {},
   "outputs": [
    {
     "name": "stdout",
     "output_type": "stream",
     "text": [
      "              0         1         2         3\n",
      "count  2.000000  2.000000  2.000000  2.000000\n",
      "mean   2.000000  4.000000  5.000000  3.000000\n",
      "std    1.414214  2.828427  2.828427  1.414214\n",
      "min    1.000000  2.000000  3.000000  2.000000\n",
      "25%    1.500000  3.000000  4.000000  2.500000\n",
      "50%    2.000000  4.000000  5.000000  3.000000\n",
      "75%    2.500000  5.000000  6.000000  3.500000\n",
      "max    3.000000  6.000000  7.000000  4.000000\n",
      "              0         1\n",
      "count  4.000000  4.000000\n",
      "mean   4.500000  2.500000\n",
      "std    2.380476  1.290994\n",
      "min    2.000000  1.000000\n",
      "25%    2.750000  1.750000\n",
      "50%    4.500000  2.500000\n",
      "75%    6.250000  3.250000\n",
      "max    7.000000  4.000000\n"
     ]
    }
   ],
   "source": [
    "# Although pandas is probably better for some of this stuff!\n",
    "import pandas as pd\n",
    "\n",
    "# Statistics along the columns\n",
    "PDMAT1 = pd.DataFrame(MAT)\n",
    "print(PDMAT1.describe())\n",
    "\n",
    "# Statistics along the rows\n",
    "PDMAT2 = pd.DataFrame(MAT.T)\n",
    "print(PDMAT2.describe())"
   ]
  },
  {
   "cell_type": "markdown",
   "metadata": {},
   "source": [
    "<h3> Transpose </h3>"
   ]
  },
  {
   "cell_type": "code",
   "execution_count": 27,
   "metadata": {},
   "outputs": [
    {
     "name": "stdout",
     "output_type": "stream",
     "text": [
      "[[3 1]\n",
      " [6 2]\n",
      " [7 3]\n",
      " [2 4]]\n"
     ]
    }
   ],
   "source": [
    "# Matrix transpose - exchanges the rows and columns\n",
    "print(MAT.T)"
   ]
  },
  {
   "cell_type": "markdown",
   "metadata": {},
   "source": [
    "<h3> Reshape </h3>"
   ]
  },
  {
   "cell_type": "code",
   "execution_count": 28,
   "metadata": {},
   "outputs": [
    {
     "name": "stdout",
     "output_type": "stream",
     "text": [
      "[[3]\n",
      " [6]\n",
      " [7]\n",
      " [2]\n",
      " [1]\n",
      " [2]\n",
      " [3]\n",
      " [4]]\n",
      "[[3]\n",
      " [6]\n",
      " [7]\n",
      " [2]\n",
      " [1]\n",
      " [2]\n",
      " [3]\n",
      " [4]]\n"
     ]
    }
   ],
   "source": [
    "# Sometimes we need to reshape our data so that operations work properly\n",
    "\n",
    "# Reshape this so that it is a column vector\n",
    "print(MAT.reshape(MAT.size,1))\n",
    "\n",
    "# Or we could do it this way\n",
    "print(MAT.reshape(-1,1)) # the -1 says to use an many rows as needed"
   ]
  },
  {
   "cell_type": "markdown",
   "metadata": {},
   "source": [
    "<h3> Addition, subtraction, and multiplication </h3>"
   ]
  },
  {
   "cell_type": "code",
   "execution_count": 29,
   "metadata": {},
   "outputs": [
    {
     "name": "stdout",
     "output_type": "stream",
     "text": [
      "ROW:\n",
      " [3 6 7 2]\n",
      "COL:\n",
      " [[3]\n",
      " [6]\n",
      " [7]\n",
      " [2]]\n",
      "MAT:\n",
      " [[3 6 7 2]\n",
      " [1 2 3 4]]\n",
      "MAT2:\n",
      " [[30 60 70 20]\n",
      " [10 20 30 40]]\n"
     ]
    }
   ],
   "source": [
    "# Matrix addition, subtraction, and multiplication\n",
    "\n",
    "# NOTE: Here the size of the matrix is important. Dimensions must match. If they don't match you will get errors like:\n",
    "# \"operands could not be broadcast together with shapes ( ) ( )\"\n",
    "\n",
    "# Recall our previously stored vectors and matrices\n",
    "print('ROW:\\n', ROW)\n",
    "print('COL:\\n', COL)\n",
    "print('MAT:\\n', MAT)\n",
    "print('MAT2:\\n', MAT2)"
   ]
  },
  {
   "cell_type": "code",
   "execution_count": 30,
   "metadata": {},
   "outputs": [
    {
     "name": "stdout",
     "output_type": "stream",
     "text": [
      "[[33 66 77 22]\n",
      " [11 22 33 44]]\n",
      "[[-27 -54 -63 -18]\n",
      " [ -9 -18 -27 -36]]\n",
      "[[ 90 360 490  40]\n",
      " [ 10  40  90 160]]\n"
     ]
    }
   ],
   "source": [
    "# Add\n",
    "print(np.add(MAT, MAT2))\n",
    "\n",
    "# Subtract\n",
    "print(np.subtract(MAT,MAT2))\n",
    "\n",
    "# Hadmard Product - Element Wise\n",
    "print(MAT*MAT2)"
   ]
  },
  {
   "cell_type": "code",
   "execution_count": 31,
   "metadata": {},
   "outputs": [
    {
     "name": "stdout",
     "output_type": "stream",
     "text": [
      "[[980 440]\n",
      " [440 300]]\n"
     ]
    }
   ],
   "source": [
    "# Matrix Multiplication\n",
    "print(np.matmul(MAT,MAT2.T))"
   ]
  },
  {
   "cell_type": "code",
   "execution_count": 32,
   "metadata": {},
   "outputs": [
    {
     "name": "stdout",
     "output_type": "stream",
     "text": [
      "[98]\n",
      "[98]\n"
     ]
    }
   ],
   "source": [
    "# Vector dot products\n",
    "print(np.dot(ROW,COL))\n",
    "print(ROW @ COL)"
   ]
  },
  {
   "cell_type": "code",
   "execution_count": 33,
   "metadata": {},
   "outputs": [
    {
     "name": "stdout",
     "output_type": "stream",
     "text": [
      "[[ 6  4]\n",
      " [12  8]\n",
      " [14 10]\n",
      " [ 4  6]]\n"
     ]
    }
   ],
   "source": [
    "# BEWARE OF BROADCASTING - applies to the + COL to each column in MAT\n",
    "print(MAT.T+COL)"
   ]
  },
  {
   "cell_type": "code",
   "execution_count": 35,
   "metadata": {},
   "outputs": [
    {
     "name": "stdout",
     "output_type": "stream",
     "text": [
      "[[ 9  3]\n",
      " [36 12]\n",
      " [49 21]\n",
      " [ 4  8]]\n",
      "[[3 1]\n",
      " [6 2]\n",
      " [7 3]\n",
      " [2 4]]\n",
      "[[3]\n",
      " [6]\n",
      " [7]\n",
      " [2]]\n"
     ]
    }
   ],
   "source": [
    "# What will this do?\n",
    "print(MAT.T*COL)\n",
    "print(MAT.T)\n",
    "print(COL)"
   ]
  },
  {
   "cell_type": "markdown",
   "metadata": {},
   "source": [
    "<h3> Inverse and Linear Systems </h3>"
   ]
  },
  {
   "cell_type": "code",
   "execution_count": 30,
   "metadata": {},
   "outputs": [
    {
     "name": "stdout",
     "output_type": "stream",
     "text": [
      "[[ 3.15251974e+15 -6.30503948e+15  3.15251974e+15]\n",
      " [-6.30503948e+15  1.26100790e+16 -6.30503948e+15]\n",
      " [ 3.15251974e+15 -6.30503948e+15  3.15251974e+15]]\n",
      "[ 4. -4.  2.]\n"
     ]
    }
   ],
   "source": [
    "# When solving a linear system Ax=b you sometimes need the matrix inverse\n",
    "A = np.array([[1,2,3],[4,5,6],[7,8,9]])\n",
    "b = np.array([1,2,3])\n",
    "\n",
    "# The solution is given by x = A^(-1)b\n",
    "Ainv = np.linalg.inv(A)\n",
    "print(Ainv)\n",
    "\n",
    "x = np.matmul(Ainv,b)\n",
    "print(x)"
   ]
  },
  {
   "cell_type": "markdown",
   "metadata": {},
   "source": [
    "<h3> Vector and Matrix Norms </h3>"
   ]
  },
  {
   "cell_type": "code",
   "execution_count": 31,
   "metadata": {},
   "outputs": [
    {
     "name": "stdout",
     "output_type": "stream",
     "text": [
      "9.899494936611665\n",
      "18.0\n",
      "7.0\n"
     ]
    }
   ],
   "source": [
    "# Often times we want to understand something about the size of a vector.\n",
    "# NORMS help us do this\n",
    "\n",
    "# ALL OF THESE assume input is a vector\n",
    "# L^2 Norm = Euclidian norm \n",
    "Ltwo = np.linalg.norm(ROW)\n",
    "print(Ltwo)\n",
    "\n",
    "# L^1 Norm - best when considering points near zero, good at telling zeros from epsilons\n",
    "Lone = np.linalg.norm(ROW,1)\n",
    "print(Lone)\n",
    "\n",
    "# L^invinity Norm = max norm - tells the maximum distance\n",
    "Linf = np.linalg.norm(ROW,np.inf)\n",
    "print(Linf)\n"
   ]
  },
  {
   "cell_type": "code",
   "execution_count": 32,
   "metadata": {},
   "outputs": [
    {
     "name": "stdout",
     "output_type": "stream",
     "text": [
      "11.313708498984761\n"
     ]
    }
   ],
   "source": [
    "# We can also calculate the \"size\" of a matrix using the frobenius norm (most common in ML)\n",
    "Mfro = np.linalg.norm(MAT)\n",
    "print(Mfro)"
   ]
  },
  {
   "cell_type": "markdown",
   "metadata": {},
   "source": [
    "<h3> Eigenvalues and Eigenvectors </h3>\n",
    "\n",
    "Given a linear transformation represented by a matrix A, eigenvectors are a special set of vectors in the space such that when A is applied they change only in scale and not direction.\n",
    "\n",
    "$$ \\mathbf{A}\\mathbf{v} = \\lambda \\mathbf{v} $$"
   ]
  },
  {
   "cell_type": "code",
   "execution_count": 33,
   "metadata": {},
   "outputs": [
    {
     "name": "stdout",
     "output_type": "stream",
     "text": [
      "[[1 2 3]\n",
      " [4 5 6]\n",
      " [7 8 9]]\n",
      "[ 1.61168440e+01 -1.11684397e+00 -9.75918483e-16]\n",
      "[[-0.23197069 -0.78583024  0.40824829]\n",
      " [-0.52532209 -0.08675134 -0.81649658]\n",
      " [-0.8186735   0.61232756  0.40824829]]\n"
     ]
    }
   ],
   "source": [
    "# Eigenvalues and eivenvectors are helpful in many applied mathematics settings \n",
    "\n",
    "# Using the A matrix defined above\n",
    "print(A)\n",
    "\n",
    "# Calculate the E-vals and E-vects\n",
    "lam,v = np.linalg.eig(A)\n",
    "print(lam)\n",
    "print(v)"
   ]
  },
  {
   "cell_type": "markdown",
   "metadata": {},
   "source": [
    "<h3> Other fun things </h3>"
   ]
  },
  {
   "cell_type": "code",
   "execution_count": 34,
   "metadata": {},
   "outputs": [
    {
     "name": "stdout",
     "output_type": "stream",
     "text": [
      "42\n",
      "[44 88 36 92]\n"
     ]
    }
   ],
   "source": [
    "# Generating random variables\n",
    "\n",
    "# A random scalar between 1 and 99\n",
    "r = np.random.randint(0,100)\n",
    "print(r)\n",
    "\n",
    "# A few random scalars between 1 and 99\n",
    "print(np.random.randint(0,100,4))"
   ]
  },
  {
   "cell_type": "code",
   "execution_count": null,
   "metadata": {},
   "outputs": [],
   "source": []
  }
 ],
 "metadata": {
  "kernelspec": {
   "display_name": "Python 3",
   "language": "python",
   "name": "python3"
  },
  "language_info": {
   "codemirror_mode": {
    "name": "ipython",
    "version": 3
   },
   "file_extension": ".py",
   "mimetype": "text/x-python",
   "name": "python",
   "nbconvert_exporter": "python",
   "pygments_lexer": "ipython3",
   "version": "3.6.10"
  }
 },
 "nbformat": 4,
 "nbformat_minor": 2
}
