{
 "cells": [
  {
   "cell_type": "markdown",
   "metadata": {},
   "source": [
    "<H1>Assignment 1 - Python and Jupyter Introduction</H1>\n",
    "\n",
    "There are 10 questions in this assignment and all questions are weighted the same."
   ]
  },
  {
   "cell_type": "markdown",
   "metadata": {},
   "source": [
    "<H4>Question 0: Example</H4>\n",
    "\n",
    "This is a sample question and solution. (There is no need for you to do anything here except read.)\n",
    "\n",
    "Task: Create a list of multiples of 5 from 0 to 100 using two different methods: a for loop with append and a list comprehension statement."
   ]
  },
  {
   "cell_type": "code",
   "execution_count": null,
   "metadata": {},
   "outputs": [],
   "source": [
    "##Sample Question Cell\n",
    "\n",
    "mult5=[]\n",
    "## Add elements to this list to get all multiples of 5 from 0 to 100 \n",
    "## using a for loop and append statements.\n",
    "???\n",
    "\n",
    "## Use list comprehension to create the same list. \n",
    "mult_5= ???\n",
    "\n",
    "mult5==mult_5"
   ]
  },
  {
   "cell_type": "code",
   "execution_count": null,
   "metadata": {},
   "outputs": [],
   "source": [
    "##Sample Answer Cell\n",
    "\n",
    "mult5=[]\n",
    "## Add elements to this list to get all multiples of 5 from 0 to 100 \n",
    "## using a for loop and append statements.\n",
    "for i in range(21):\n",
    "    mult5.append(5*i)\n",
    "print(mult5)\n",
    "\n",
    "## Use list comprehension to create the same list. \n",
    "mult_5= [5*i for i in range(21)]\n",
    "print(mult_5)\n",
    "\n",
    "mult5==mult_5"
   ]
  },
  {
   "cell_type": "markdown",
   "metadata": {},
   "source": [
    "<H4>Question 1: Python Functions</H4>\n",
    "    \n",
    "Task: Write a Python function that will read in two strings and return a string which concatenates the two strings with a space in between."
   ]
  },
  {
   "cell_type": "code",
   "execution_count": 4,
   "metadata": {},
   "outputs": [],
   "source": [
    "## Question and Function Cell \n",
    "def function_one(a,b):\n",
    "    return a + \" \" + b #make space between the strings using \" \""
   ]
  },
  {
   "cell_type": "code",
   "execution_count": 5,
   "metadata": {},
   "outputs": [
    {
     "data": {
      "text/plain": [
       "'gamers rule'"
      ]
     },
     "execution_count": 5,
     "metadata": {},
     "output_type": "execute_result"
    }
   ],
   "source": [
    "## Example of function_one\n",
    "function_one(\"gamers\", \"rule\")"
   ]
  },
  {
   "cell_type": "markdown",
   "metadata": {},
   "source": [
    "<H4>Question 2: Modification</H4>\n",
    "    \n",
    "Task: Adapt the previous function to allow for two or three strings."
   ]
  },
  {
   "cell_type": "code",
   "execution_count": 19,
   "metadata": {},
   "outputs": [],
   "source": [
    "## Question and function cell\n",
    "def function_two(a,b,c = False):\n",
    "    if (c == False):\n",
    "        return a + \" \" + b\n",
    "    else:\n",
    "        return a + \" \" + b + \" \" + c"
   ]
  },
  {
   "cell_type": "code",
   "execution_count": 22,
   "metadata": {},
   "outputs": [
    {
     "data": {
      "text/plain": [
       "'pineapple on pizza'"
      ]
     },
     "execution_count": 22,
     "metadata": {},
     "output_type": "execute_result"
    }
   ],
   "source": [
    "## Example of function_two with three strings\n",
    "function_two(\"pineapple\", \"on\", \"pizza\")"
   ]
  },
  {
   "cell_type": "code",
   "execution_count": 23,
   "metadata": {},
   "outputs": [
    {
     "data": {
      "text/plain": [
       "'pineapple pizza'"
      ]
     },
     "execution_count": 23,
     "metadata": {},
     "output_type": "execute_result"
    }
   ],
   "source": [
    "## Examlple of function_two with two string\n",
    "function_two(\"pineapple\", \"pizza\")"
   ]
  },
  {
   "cell_type": "markdown",
   "metadata": {},
   "source": [
    "<H4>Question 3: Functions and Lists.</H4>\n",
    "\n",
    "Write a function to create a list of <it>n</it> Fibonacci numbers where n is an input to the function. \n",
    "\n",
    "The Fibonacci seqence is a sequence of numbers where the next number in the sequence is the sum of the previous two numbers in the sequence.  1, 1, 2, 3, 5, 8, 13, ..."
   ]
  },
  {
   "cell_type": "code",
   "execution_count": 38,
   "metadata": {},
   "outputs": [
    {
     "data": {
      "text/plain": [
       "[0, 1, 1, 2, 3, 5, 8, 13, 21, 34, 55, 89, 144]"
      ]
     },
     "execution_count": 38,
     "metadata": {},
     "output_type": "execute_result"
    }
   ],
   "source": [
    "def function_three(n):\n",
    "    if n == 0: # if n equals 0 then a 0 will always be returned \n",
    "        return [0]\n",
    "    elif n == 1:\n",
    "        return [0, 1] # if n equals 1, then the fist two numbers in our list will always be 0 and 1\n",
    "    else:\n",
    "        # create a list for the n-1 case and then append the n-2 cases\n",
    "        fiblist = function_three(n-1)\n",
    "        fiblist.append(fiblist[-1] + fiblist[-2])\n",
    "    return fiblist\n",
    "    \n",
    "function_three(12)"
   ]
  },
  {
   "cell_type": "markdown",
   "metadata": {},
   "source": [
    "<H4>Question 4: Lists</H4>\n",
    "\n",
    "Tasks:\n",
    "<ol>\n",
    "    <li> Create a new list which contains all the numbers in old_list which are congruent to 0 mod 3 using a list comprehension.\n",
    "    </li>\n",
    "<li> \n",
    "Use appropriate slicing to print the last three numbers of the original list.\n",
    "  </li>\n",
    "<li>\n",
    "Use appropriate slicing to print the middle five numbers of the original list. \n",
    "    </li>\n",
    "<li>\n",
    "Print all the numbers from old_list in reverse order.\n",
    "    </li>\n",
    "    </ol>\n"
   ]
  },
  {
   "cell_type": "code",
   "execution_count": 1,
   "metadata": {},
   "outputs": [
    {
     "name": "stdout",
     "output_type": "stream",
     "text": [
      "A list of numbers in old_list which are congruent to 0 mod 3:  [9, 18, 42, 45]\n",
      "The last three numbers of the old list are:  [98, 45, 29]\n",
      "The middle five numbers of the old list are:  [18, 22, 2, 31, 42]\n",
      "The reverse old list is:  [29, 45, 98, 42, 31, 2, 22, 18, 4, 9, 5]\n"
     ]
    }
   ],
   "source": [
    "## The starting list.\n",
    "old_list = [5,9,4,18,22,2,31,42,98,45,29]\n",
    "## create new list here of numbers in old_list which are congruent to 0 mod 3.\n",
    "new_list=[int(a) for a in old_list if a%3 == 0]\n",
    "print(\"A list of numbers in old_list which are congruent to 0 mod 3: \", new_list)\n",
    "## print last three\n",
    "print(\"The last three numbers of the old list are: \", old_list[-3:])\n",
    "## print middle five\n",
    "print(\"The middle five numbers of the old list are: \", old_list[3:8])\n",
    "## print in reverse order\n",
    "print(\"The reverse old list is: \", old_list[::-1])"
   ]
  },
  {
   "cell_type": "markdown",
   "metadata": {},
   "source": [
    "<H4>Question 5: Dictionaries</H4>\n",
    "    \n",
    "Tasks: \n",
    "<ol>\n",
    "<li>Create a birthday dictionary with 5 people and their birthdays. Enter names and dates as strings. Neither the people nor the birthdays need to be real. \n",
    "    </li><li>\n",
    "Add a sixth person and their birthday to the dictionary.\n",
    "        </li><li> \n",
    "Print all names in the dictionary.\n",
    "   </li><li>\n",
    "Print all birthdays from the dictionary.\n",
    "    </li>\n",
    "  </ol>"
   ]
  },
  {
   "cell_type": "code",
   "execution_count": 41,
   "metadata": {},
   "outputs": [
    {
     "name": "stdout",
     "output_type": "stream",
     "text": [
      "dict_keys(['Sam', 'Maya', 'Jake', 'LeBron', 'Kobe', 'Henry'])\n",
      "dict_values(['06/19/1998', '02/21/1998', '05/14/1998', '12/30/1984', '08/23/1978', '10/13/1999'])\n"
     ]
    }
   ],
   "source": [
    "## Create a dictionary with 5 names.\n",
    "birthday={'Sam': '06/19/1998', 'Maya': '02/21/1998', 'Jake': '05/14/1998', 'LeBron': '12/30/1984', 'Kobe': '08/23/1978'}\n",
    "## Add a 6th name to the dictionary.\n",
    "birthday['Henry'] = '10/13/1999'\n",
    "## Print all names in the dictionary.\n",
    "print(birthday.keys())\n",
    "## Print all birthdays in the dictionary.\n",
    "print(birthday.values())"
   ]
  },
  {
   "cell_type": "markdown",
   "metadata": {},
   "source": [
    "<H4>Question 6: Lambdas and Maps</H4>\n",
    "\n",
    "Task: Write a lambda function to double each entry in the list of numbers. Note: the rest of the code will apply this as a map function."
   ]
  },
  {
   "cell_type": "code",
   "execution_count": 19,
   "metadata": {},
   "outputs": [
    {
     "name": "stdout",
     "output_type": "stream",
     "text": [
      "[2, 18, 6, 4]\n"
     ]
    }
   ],
   "source": [
    "numbers = [1, 9, 3, 2] \n",
    "result = map(lambda a: a*2, numbers) \n",
    "print(list(result)) "
   ]
  },
  {
   "cell_type": "markdown",
   "metadata": {},
   "source": [
    "<H4>Question 7: String Map</H4>\n",
    "    \n",
    "Task: for the given list1, use the map function to create a list of strings instead of integers with the given value. That is, you should end up with ['10','9',...]."
   ]
  },
  {
   "cell_type": "code",
   "execution_count": 52,
   "metadata": {},
   "outputs": [
    {
     "name": "stdout",
     "output_type": "stream",
     "text": [
      "['10', '9', '5', '7', '3']\n"
     ]
    }
   ],
   "source": [
    "list1 = [10, 9, 5, 7, 3]\n",
    "print(list(map(str, list1)))"
   ]
  },
  {
   "cell_type": "markdown",
   "metadata": {},
   "source": [
    "<H4>Question 8: More Maps</H4>\n",
    "\n",
    "Tasks: \n",
    "<ol>\n",
    "    <li> Write a function to input a string of two names, first and last, and output just the first name.\n",
    "    </li><li>\n",
    "    Use the map function to apply your function to the list [names] below.\n",
    "    </li>\n",
    "    </ol>"
   ]
  },
  {
   "cell_type": "code",
   "execution_count": 63,
   "metadata": {},
   "outputs": [
    {
     "name": "stdout",
     "output_type": "stream",
     "text": [
      "['Max', 'Michael', 'Sam', 'Noah', 'Joseph', 'Anooj', 'John', 'Kimberly', 'Sam', 'Tyler', 'Jonathon', 'Rafael', 'Joanna', 'Tamara', 'Bongo', 'Bella', 'Kika']\n"
     ]
    }
   ],
   "source": [
    "names=['Max Auerbach','Michael Brookstein','Sam Cribbs', \"Noah Delano\", \"Joseph Macias\", 'Anooj Patel', 'John Pease', 'Kimberly Sheldon', 'Sam Silva', 'Tyler Wise', 'Jonathon Zacarias', \"Rafael Zasas\", \"Joanna Bieri\", \"Tamara Veenstra\", \"Bongo the Cat\", \"Bella the Cat\",\"Kika the Cat\"]\n",
    "\n",
    "##Write your function here to input a multiple names and return just the first name.\n",
    "def your_function(names):\n",
    "    first = names.split()[0]\n",
    "    last = names.split()[-1]\n",
    "    return first\n",
    "    \n",
    "##Use map to apply your_function to produce a list of all the first names in the list names.\n",
    "\n",
    "print(list(map(your_function, names)))"
   ]
  },
  {
   "cell_type": "markdown",
   "metadata": {},
   "source": [
    "<H4>Question 9: Even more maps</H4>\n",
    "\n",
    "Task: Use the map function to produce a list which contains the sums of the entries of the two lists below. That is, you should get the list [3+5,4+7,5+11,6+13].\n",
    "You may use either a lambda or a formal function."
   ]
  },
  {
   "cell_type": "code",
   "execution_count": 20,
   "metadata": {},
   "outputs": [
    {
     "name": "stdout",
     "output_type": "stream",
     "text": [
      "[8, 11, 16, 19]\n"
     ]
    }
   ],
   "source": [
    "num1=[3,4,5,6]\n",
    "num2=[5,7,11,13]\n",
    "## Enter your code here \n",
    "sum_list = map(lambda a, b: a + b, num1, num2) \n",
    "print(list(sum_list))"
   ]
  },
  {
   "cell_type": "markdown",
   "metadata": {},
   "source": [
    "<H4>Question 10: The Format Command</H4>\n",
    "    \n",
    "Tasks: Use the format command to process the following information in both examples below."
   ]
  },
  {
   "cell_type": "code",
   "execution_count": 67,
   "metadata": {},
   "outputs": [
    {
     "name": "stdout",
     "output_type": "stream",
     "text": [
      "The first number is 4 and the last number is 42\n",
      "The person's first name is Jean-Luc and the person's last name is Picard. His hometown is La Barre, France\n"
     ]
    }
   ],
   "source": [
    "## enter the appropriate commands in format so that the printed sentence includes the first and last number in the list data.\n",
    "data = [4, 8, 15, 16, 23, 42]\n",
    "print('The first number is {} and the last number is {}'.format(data[0],data[-1] ))\n",
    "\n",
    "\n",
    "## Use the information in the dictionary person to construct the following sentence. \n",
    "## \"The person's first name is Jean-Luc and the person's last name is Picard. \n",
    "## His hometown is La Barre, France.\" The phrases \n",
    "##  'Jean-Luc', 'Picard', 'La Barre, France' should be accessed from the dictionary.\n",
    "person = {'first': 'Jean-Luc', 'last': 'Picard', 'hometown': 'La Barre, France' }\n",
    "print(\"The person's first name is {} and the person's last name is {}. His hometown is {}\" . format(person['first'], person['last'], person['hometown']))\n"
   ]
  },
  {
   "cell_type": "code",
   "execution_count": null,
   "metadata": {},
   "outputs": [],
   "source": []
  }
 ],
 "metadata": {
  "kernelspec": {
   "display_name": "Python 3",
   "language": "python",
   "name": "python3"
  },
  "language_info": {
   "codemirror_mode": {
    "name": "ipython",
    "version": 3
   },
   "file_extension": ".py",
   "mimetype": "text/x-python",
   "name": "python",
   "nbconvert_exporter": "python",
   "pygments_lexer": "ipython3",
   "version": "3.6.10"
  }
 },
 "nbformat": 4,
 "nbformat_minor": 2
}
