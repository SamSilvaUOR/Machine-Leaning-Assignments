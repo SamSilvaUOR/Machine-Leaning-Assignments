{
 "cells": [
  {
   "cell_type": "code",
   "execution_count": 1,
   "metadata": {},
   "outputs": [],
   "source": [
    "import numpy as np\n",
    "import matplotlib.pyplot as plt\n",
    "\n",
    "from sklearn.datasets import load_iris\n",
    "from sklearn.linear_model import Perceptron\n",
    "from sklearn.model_selection import train_test_split"
   ]
  },
  {
   "cell_type": "markdown",
   "metadata": {},
   "source": [
    "### Perceptron model for Iris Classification\n",
    "\n",
    "We will load the Iris data and build a binary classifier that takes as an input two features\n",
    "- x1 = petal length and x2 = petal width\n",
    "\n",
    "It will output:\n",
    "- 1 = Iris-Setosa and 0 = Not Iris-Setosa"
   ]
  },
  {
   "cell_type": "code",
   "execution_count": 2,
   "metadata": {},
   "outputs": [],
   "source": [
    "iris = load_iris()\n",
    "X = iris.data[:, (2, 3)]  # petal length, petal width\n",
    "y = (iris.target == 0).astype(np.int)"
   ]
  },
  {
   "cell_type": "code",
   "execution_count": 3,
   "metadata": {},
   "outputs": [
    {
     "data": {
      "image/png": "[encoded data removed]",
      "text/plain": [
       "<Figure size 720x288 with 1 Axes>"
      ]
     },
     "metadata": {
      "needs_background": "light"
     },
     "output_type": "display_data"
    }
   ],
   "source": [
    "# Plot the data\n",
    "plt.figure(figsize=(10, 4))\n",
    "plt.plot(X[y==0, 0], X[y==0, 1], \"bs\", label=\"Not Iris-Setosa\")\n",
    "plt.plot(X[y==1, 0], X[y==1, 1], \"yo\", label=\"Iris-Setosa\")\n",
    "\n",
    "plt.xlabel(\"Petal length\", fontsize=14)\n",
    "plt.ylabel(\"Petal width\", fontsize=14)\n",
    "plt.legend(loc=\"lower right\", fontsize=14)\n",
    "\n",
    "plt.show()"
   ]
  },
  {
   "cell_type": "code",
   "execution_count": 4,
   "metadata": {},
   "outputs": [
    {
     "data": {
      "text/plain": [
       "(150, 4)"
      ]
     },
     "execution_count": 4,
     "metadata": {},
     "output_type": "execute_result"
    }
   ],
   "source": [
    "# How many data points does our data set contiain?\n",
    "iris.data.shape"
   ]
  },
  {
   "cell_type": "code",
   "execution_count": 5,
   "metadata": {},
   "outputs": [],
   "source": [
    "# Split into training and testing data but take a small test size since our data set is so small\n",
    "RN = 10\n",
    "X_train, X_test, y_train, y_test = train_test_split(X, y, test_size=.1, stratify=y, random_state=RN)"
   ]
  },
  {
   "cell_type": "code",
   "execution_count": 6,
   "metadata": {},
   "outputs": [],
   "source": [
    "Perceptron?"
   ]
  },
  {
   "cell_type": "markdown",
   "metadata": {},
   "source": [
    "Here are all the inputs for the Perceptron function:\n",
    "\n",
    "Perceptron(\n",
    "    - penalty=None, \"What kind of regularization\"\n",
    "    - alpha=0.0001, \"Multiplies the regularization term - how much regularization\"\n",
    "    - fit_intercept=True,\n",
    "    - max_iter=1000, \"How many times to pass through the dataset when fitting\"\n",
    "    - tol=0.001, \"Stopping criterion - stop when the thetas stop changing\"\n",
    "    - shuffle=True,\n",
    "    - verbose=0, \"set to 0, 1, 2, or 3 to get more feeback from the code\"\n",
    "    - eta0=1.0, \"This is our learning rate\"\n",
    "    - n_jobs=None,\n",
    "    - random_state=0,\n",
    "    - early_stopping=False,\n",
    "    - validation_fraction=0.1,\n",
    "    - n_iter_no_change=5,\n",
    "    - class_weight=None, \n",
    "    - warm_start=False,\n",
    ")"
   ]
  },
  {
   "cell_type": "code",
   "execution_count": 7,
   "metadata": {},
   "outputs": [
    {
     "name": "stdout",
     "output_type": "stream",
     "text": [
      "-- Epoch 1\n",
      "Norm: 3.48, NNZs: 2, Bias: 5.000000, T: 135, Avg. loss: 0.255778\n",
      "Total training time: 0.00 seconds.\n",
      "-- Epoch 2\n",
      "Norm: 3.48, NNZs: 2, Bias: 5.000000, T: 270, Avg. loss: 0.000000\n",
      "Total training time: 0.00 seconds.\n",
      "-- Epoch 3\n",
      "Norm: 3.48, NNZs: 2, Bias: 5.000000, T: 405, Avg. loss: 0.000000\n",
      "Total training time: 0.00 seconds.\n",
      "-- Epoch 4\n",
      "Norm: 3.48, NNZs: 2, Bias: 5.000000, T: 540, Avg. loss: 0.000000\n",
      "Total training time: 0.00 seconds.\n",
      "-- Epoch 5\n",
      "Norm: 3.48, NNZs: 2, Bias: 5.000000, T: 675, Avg. loss: 0.000000\n",
      "Total training time: 0.00 seconds.\n",
      "-- Epoch 6\n",
      "Norm: 3.48, NNZs: 2, Bias: 5.000000, T: 810, Avg. loss: 0.000000\n",
      "Total training time: 0.00 seconds.\n",
      "-- Epoch 7\n",
      "Norm: 3.48, NNZs: 2, Bias: 5.000000, T: 945, Avg. loss: 0.000000\n",
      "Total training time: 0.00 seconds.\n",
      "Convergence after 7 epochs took 0.00 seconds\n"
     ]
    },
    {
     "data": {
      "text/plain": [
       "Perceptron(alpha=0.0001, class_weight=None, early_stopping=False, eta0=1.0,\n",
       "           fit_intercept=True, max_iter=1000, n_iter_no_change=5, n_jobs=None,\n",
       "           penalty=None, random_state=10, shuffle=True, tol=0.001,\n",
       "           validation_fraction=0.1, verbose=1, warm_start=False)"
      ]
     },
     "execution_count": 7,
     "metadata": {},
     "output_type": "execute_result"
    }
   ],
   "source": [
    "per_clf = Perceptron(max_iter=1000, tol=1e-3, random_state=RN, verbose=1)\n",
    "per_clf.fit(X_train, y_train)"
   ]
  },
  {
   "cell_type": "markdown",
   "metadata": {},
   "source": [
    "##### What would we expect the point [2, 0.5] to be? Look back at the graph of the data!"
   ]
  },
  {
   "cell_type": "code",
   "execution_count": 8,
   "metadata": {},
   "outputs": [
    {
     "name": "stdout",
     "output_type": "stream",
     "text": [
      "[1]\n"
     ]
    }
   ],
   "source": [
    "# It should output 1 = iris-setosa\n",
    "y_pred = per_clf.predict([[2, 0.5]])\n",
    "print(y_pred)"
   ]
  },
  {
   "cell_type": "code",
   "execution_count": 9,
   "metadata": {},
   "outputs": [
    {
     "name": "stdout",
     "output_type": "stream",
     "text": [
      "[[-1.1 -3.3]]\n",
      "[5.]\n"
     ]
    }
   ],
   "source": [
    "# Lets look at the coefficients that were saved by the model using\n",
    "print(per_clf.coef_)\n",
    "print(per_clf.intercept_)"
   ]
  },
  {
   "cell_type": "code",
   "execution_count": 10,
   "metadata": {},
   "outputs": [
    {
     "data": {
      "image/png": "[encoded data removed]",
      "text/plain": [
       "<Figure size 720x288 with 1 Axes>"
      ]
     },
     "metadata": {
      "needs_background": "light"
     },
     "output_type": "display_data"
    }
   ],
   "source": [
    "axes = [0, 8, 0, 3]\n",
    "\n",
    "x0, x1 = np.meshgrid(\n",
    "        np.linspace(axes[0], axes[1], 500).reshape(-1, 1),\n",
    "        np.linspace(axes[2], axes[3], 200).reshape(-1, 1),\n",
    "    )\n",
    "X_new = np.c_[x0.ravel(), x1.ravel()]\n",
    "y_predict = per_clf.predict(X_new)\n",
    "zz = y_predict.reshape(x0.shape)\n",
    "\n",
    "plt.figure(figsize=(10, 4))\n",
    "plt.plot(X[y==0, 0], X[y==0, 1], \"bs\", label=\"Not Iris-Setosa\")\n",
    "plt.plot(X[y==1, 0], X[y==1, 1], \"yo\", label=\"Iris-Setosa\")\n",
    "\n",
    "plt.plot(X_train[y_train==0, 0], X_train[y_train==0, 1], \"w.\")\n",
    "plt.plot(X_train[y_train==1, 0], X_train[y_train==1, 1], \"w.\")\n",
    "\n",
    "from matplotlib.colors import ListedColormap\n",
    "custom_cmap = ListedColormap(['#9898ff', '#fafab0'])\n",
    "\n",
    "plt.contourf(x0, x1, zz, cmap=custom_cmap)\n",
    "plt.xlabel(\"Petal length\", fontsize=14)\n",
    "plt.ylabel(\"Petal width\", fontsize=14)\n",
    "plt.legend(loc=\"lower right\", fontsize=14)\n",
    "plt.axis(axes)\n",
    "\n",
    "plt.show()"
   ]
  },
  {
   "cell_type": "markdown",
   "metadata": {},
   "source": [
    "It turns out SGDClassifier with (loss=\"perceptron\", learning_rate=\"constant\", eta0=1, and penalty=None) is the same as the Perceptron function above."
   ]
  },
  {
   "cell_type": "code",
   "execution_count": 11,
   "metadata": {},
   "outputs": [
    {
     "name": "stdout",
     "output_type": "stream",
     "text": [
      "Testing Accuracy:  1.0\n",
      "Training Accuracy:  1.0\n"
     ]
    }
   ],
   "source": [
    "# Report our accuracy\n",
    "y_predict=per_clf.predict(X_test)\n",
    "score=y_predict==y_test\n",
    "print(\"Testing Accuracy: \", score.sum()/len(score))\n",
    "\n",
    "y_predict=per_clf.predict(X_train)\n",
    "score=y_predict==y_train\n",
    "print(\"Training Accuracy: \", score.sum()/len(score))\n"
   ]
  },
  {
   "cell_type": "markdown",
   "metadata": {},
   "source": [
    "#### Strengths and Weaknesses\n",
    "\n",
    "- The Perceptron is simple and fairly quick to train\n",
    "- The output is based on a hard threshold - only outputs zeros or ones, unlike Logistic Regression which can output a probability that object is classified in that class.\n",
    "- They are too simple - our more complicated logic gates (ex. XOR) cannot be represented by a perceptron because they have hidden layers. "
   ]
  },
  {
   "cell_type": "markdown",
   "metadata": {},
   "source": [
    "### MLP - Multilayer Perceptron\n",
    "\n",
    "- You can combine multiple perceptrons to solve more complicated problems like XOR.\n",
    "- These are harder to train and we need to learn about Backpropagation to train more complicated models (coming soon!)"
   ]
  },
  {
   "cell_type": "code",
   "execution_count": null,
   "metadata": {},
   "outputs": [],
   "source": []
  }
 ],
 "metadata": {
  "kernelspec": {
   "display_name": "Python 3",
   "language": "python",
   "name": "python3"
  },
  "language_info": {
   "codemirror_mode": {
    "name": "ipython",
    "version": 3
   },
   "file_extension": ".py",
   "mimetype": "text/x-python",
   "name": "python",
   "nbconvert_exporter": "python",
   "pygments_lexer": "ipython3",
   "version": "3.6.10"
  }
 },
 "nbformat": 4,
 "nbformat_minor": 2
}
