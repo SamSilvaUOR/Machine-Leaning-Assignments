{
 "cells": [
  {
   "cell_type": "markdown",
   "metadata": {},
   "source": [
    "#### Questions: \n",
    "<ol>\n",
    "    <li> Upload the data at \"http://facweb1.redlands.edu/fac/Tamara_Veenstra/ML/fruits.csv\" into a DataFrame. Then\n",
    "    use LabelEncoder to convert fruit_name column from categorical to numerical data. Print out all the fruit names that are in the data.\n",
    "        </li><li>\n",
    "    Create a dictionary to convert from numerical value back to name of fruit.\n",
    "    </li><li>\n",
    "    Create X to be a DataFrame with the height and width columns. Create Y with the numerical data from fruit_name column. \n",
    "    </li><li>\n",
    "    Split your data into training and testing data use \"random_state=0\". (with train_test_split)\n",
    "    </li><li>\n",
    "    Perform k nearest neighbors classification, with all ODD values from 1-43 as neighbors. (44 should be the length of your training set). Make predictions for fruit points in X_sample=np.array([[7.5,7.5],[9.2,7.2],[4.3,5.9],[7.5, 7.1]]) Use your dictionary to output the name of the fruit and not the value. E.g. it should print \"apple\" and not 0. \n",
    "    Explain what is happening as k increases by analyzing your data.\n",
    "    </li><li>\n",
    "    Perform k nearest neighbors classification, with all odd values from 1-43 as neighbors. Record the scores on the training and testing data and plot them on the same graph. \n",
    "    Which number of neighbors seems best for this data?\n",
    "            </li><li> When is overfitting (high variance) occurring in your model? When is underfitting (high bias) occurring in your model?\n",
    "      </li><li> Graph the decision boundaries for 1,3,5 neighbors. \n",
    "    </li><li> Graph the decision boundaries for 19,29, and 43 neighbors. \n",
    "    </li><li> Explain how you see the overfitting and underfitting in the decision boundaries. \n",
    "     </li><li> Repeat problems 5 and 6 but redo your train_test_split to use \"random_state=5\".  How did your performance change and why? Justify your answer based on your data. \n",
    "         </li><li> Repeat problem 6 but with X= height,mass, width and color_score columns  How did your performance change?\n",
    "</li>  \n",
    "</ol>    \n",
    "\n"
   ]
  },
  {
   "cell_type": "code",
   "execution_count": 1,
   "metadata": {},
   "outputs": [],
   "source": [
    "import pandas as pd\n",
    "import matplotlib.pyplot as plt\n",
    "import numpy as np"
   ]
  },
  {
   "cell_type": "markdown",
   "metadata": {},
   "source": [
    "## 1. Upload the data at into a DataFrame. Then use LabelEncoder to convert fruit_name column from categorical to numerical data. Print out all the fruit names that are in the data."
   ]
  },
  {
   "cell_type": "code",
   "execution_count": 2,
   "metadata": {},
   "outputs": [
    {
     "data": {
      "text/html": [
       "<div>\n",
       "<style scoped>\n",
       "    .dataframe tbody tr th:only-of-type {\n",
       "        vertical-align: middle;\n",
       "    }\n",
       "\n",
       "    .dataframe tbody tr th {\n",
       "        vertical-align: top;\n",
       "    }\n",
       "\n",
       "    .dataframe thead th {\n",
       "        text-align: right;\n",
       "    }\n",
       "</style>\n",
       "<table border=\"1\" class=\"dataframe\">\n",
       "  <thead>\n",
       "    <tr style=\"text-align: right;\">\n",
       "      <th></th>\n",
       "      <th>Unnamed: 0</th>\n",
       "      <th>fruit_name</th>\n",
       "      <th>fruit_subtype</th>\n",
       "      <th>height</th>\n",
       "      <th>mass</th>\n",
       "      <th>width</th>\n",
       "      <th>color_score</th>\n",
       "    </tr>\n",
       "  </thead>\n",
       "  <tbody>\n",
       "    <tr>\n",
       "      <td>0</td>\n",
       "      <td>0</td>\n",
       "      <td>apple</td>\n",
       "      <td>granny_smith</td>\n",
       "      <td>7.3</td>\n",
       "      <td>192</td>\n",
       "      <td>8.4</td>\n",
       "      <td>0.55</td>\n",
       "    </tr>\n",
       "    <tr>\n",
       "      <td>1</td>\n",
       "      <td>1</td>\n",
       "      <td>apple</td>\n",
       "      <td>granny_smith</td>\n",
       "      <td>6.8</td>\n",
       "      <td>180</td>\n",
       "      <td>8.0</td>\n",
       "      <td>0.59</td>\n",
       "    </tr>\n",
       "    <tr>\n",
       "      <td>2</td>\n",
       "      <td>2</td>\n",
       "      <td>apple</td>\n",
       "      <td>granny_smith</td>\n",
       "      <td>7.2</td>\n",
       "      <td>176</td>\n",
       "      <td>7.4</td>\n",
       "      <td>0.60</td>\n",
       "    </tr>\n",
       "    <tr>\n",
       "      <td>3</td>\n",
       "      <td>3</td>\n",
       "      <td>mandarin</td>\n",
       "      <td>mandarin</td>\n",
       "      <td>4.7</td>\n",
       "      <td>86</td>\n",
       "      <td>6.2</td>\n",
       "      <td>0.80</td>\n",
       "    </tr>\n",
       "    <tr>\n",
       "      <td>4</td>\n",
       "      <td>4</td>\n",
       "      <td>mandarin</td>\n",
       "      <td>mandarin</td>\n",
       "      <td>4.6</td>\n",
       "      <td>84</td>\n",
       "      <td>6.0</td>\n",
       "      <td>0.79</td>\n",
       "    </tr>\n",
       "  </tbody>\n",
       "</table>\n",
       "</div>"
      ],
      "text/plain": [
       "   Unnamed: 0 fruit_name fruit_subtype  height  mass  width  color_score\n",
       "0           0      apple  granny_smith     7.3   192    8.4         0.55\n",
       "1           1      apple  granny_smith     6.8   180    8.0         0.59\n",
       "2           2      apple  granny_smith     7.2   176    7.4         0.60\n",
       "3           3   mandarin      mandarin     4.7    86    6.2         0.80\n",
       "4           4   mandarin      mandarin     4.6    84    6.0         0.79"
      ]
     },
     "execution_count": 2,
     "metadata": {},
     "output_type": "execute_result"
    }
   ],
   "source": [
    "# Import data using pandas\n",
    "df = pd.read_csv(filepath_or_buffer='http://facweb1.redlands.edu/fac/Tamara_Veenstra/ML/fruits.csv', )\n",
    "df.head()"
   ]
  },
  {
   "cell_type": "code",
   "execution_count": 3,
   "metadata": {},
   "outputs": [
    {
     "name": "stdout",
     "output_type": "stream",
     "text": [
      "['apple' 'lemon' 'mandarin' 'orange']\n"
     ]
    }
   ],
   "source": [
    "from sklearn import preprocessing\n",
    "\n",
    "le = preprocessing.LabelEncoder()\n",
    "\n",
    "le.fit(df['fruit_name'])\n",
    "\n",
    "le.transform(df['fruit_name'])\n",
    "\n",
    "print((le.classes_))\n",
    "\n",
    "df['fruit_name']=le.transform(df['fruit_name'])"
   ]
  },
  {
   "cell_type": "code",
   "execution_count": 4,
   "metadata": {},
   "outputs": [
    {
     "data": {
      "text/html": [
       "<div>\n",
       "<style scoped>\n",
       "    .dataframe tbody tr th:only-of-type {\n",
       "        vertical-align: middle;\n",
       "    }\n",
       "\n",
       "    .dataframe tbody tr th {\n",
       "        vertical-align: top;\n",
       "    }\n",
       "\n",
       "    .dataframe thead th {\n",
       "        text-align: right;\n",
       "    }\n",
       "</style>\n",
       "<table border=\"1\" class=\"dataframe\">\n",
       "  <thead>\n",
       "    <tr style=\"text-align: right;\">\n",
       "      <th></th>\n",
       "      <th>Unnamed: 0</th>\n",
       "      <th>fruit_name</th>\n",
       "      <th>fruit_subtype</th>\n",
       "      <th>height</th>\n",
       "      <th>mass</th>\n",
       "      <th>width</th>\n",
       "      <th>color_score</th>\n",
       "    </tr>\n",
       "  </thead>\n",
       "  <tbody>\n",
       "    <tr>\n",
       "      <td>0</td>\n",
       "      <td>0</td>\n",
       "      <td>0</td>\n",
       "      <td>granny_smith</td>\n",
       "      <td>7.3</td>\n",
       "      <td>192</td>\n",
       "      <td>8.4</td>\n",
       "      <td>0.55</td>\n",
       "    </tr>\n",
       "    <tr>\n",
       "      <td>1</td>\n",
       "      <td>1</td>\n",
       "      <td>0</td>\n",
       "      <td>granny_smith</td>\n",
       "      <td>6.8</td>\n",
       "      <td>180</td>\n",
       "      <td>8.0</td>\n",
       "      <td>0.59</td>\n",
       "    </tr>\n",
       "    <tr>\n",
       "      <td>2</td>\n",
       "      <td>2</td>\n",
       "      <td>0</td>\n",
       "      <td>granny_smith</td>\n",
       "      <td>7.2</td>\n",
       "      <td>176</td>\n",
       "      <td>7.4</td>\n",
       "      <td>0.60</td>\n",
       "    </tr>\n",
       "    <tr>\n",
       "      <td>3</td>\n",
       "      <td>3</td>\n",
       "      <td>2</td>\n",
       "      <td>mandarin</td>\n",
       "      <td>4.7</td>\n",
       "      <td>86</td>\n",
       "      <td>6.2</td>\n",
       "      <td>0.80</td>\n",
       "    </tr>\n",
       "    <tr>\n",
       "      <td>4</td>\n",
       "      <td>4</td>\n",
       "      <td>2</td>\n",
       "      <td>mandarin</td>\n",
       "      <td>4.6</td>\n",
       "      <td>84</td>\n",
       "      <td>6.0</td>\n",
       "      <td>0.79</td>\n",
       "    </tr>\n",
       "  </tbody>\n",
       "</table>\n",
       "</div>"
      ],
      "text/plain": [
       "   Unnamed: 0  fruit_name fruit_subtype  height  mass  width  color_score\n",
       "0           0           0  granny_smith     7.3   192    8.4         0.55\n",
       "1           1           0  granny_smith     6.8   180    8.0         0.59\n",
       "2           2           0  granny_smith     7.2   176    7.4         0.60\n",
       "3           3           2      mandarin     4.7    86    6.2         0.80\n",
       "4           4           2      mandarin     4.6    84    6.0         0.79"
      ]
     },
     "execution_count": 4,
     "metadata": {},
     "output_type": "execute_result"
    }
   ],
   "source": [
    "df.head()"
   ]
  },
  {
   "cell_type": "markdown",
   "metadata": {},
   "source": [
    "## 2. Create a dictionary to convert from numerical value back to name of fruit."
   ]
  },
  {
   "cell_type": "code",
   "execution_count": 5,
   "metadata": {},
   "outputs": [],
   "source": [
    "fruit_dict = {0: \"apple\", 1:\"lemon\", 2: \"mandarin\", 3:\"orange\"}"
   ]
  },
  {
   "cell_type": "markdown",
   "metadata": {},
   "source": [
    "## 3. Create X to be a DataFrame with the height and width columns. Create Y with the numerical data from fruit_name column."
   ]
  },
  {
   "cell_type": "code",
   "execution_count": 6,
   "metadata": {},
   "outputs": [
    {
     "name": "stdout",
     "output_type": "stream",
     "text": [
      "(59, 2)\n",
      "(59,)\n"
     ]
    }
   ],
   "source": [
    "X = df[[\"height\",\"width\"]].to_numpy()\n",
    "print(X.shape)\n",
    "y=df['fruit_name'].to_numpy()\n",
    "print(y.shape)"
   ]
  },
  {
   "cell_type": "markdown",
   "metadata": {},
   "source": [
    "## 4. Split your data into training and testing data"
   ]
  },
  {
   "cell_type": "code",
   "execution_count": 7,
   "metadata": {},
   "outputs": [],
   "source": [
    "from sklearn.model_selection import train_test_split\n",
    "X_train, X_test, y_train, y_test = train_test_split(X, y, random_state=0)\n",
    "#print(np.std(X_train))\n",
    "#X_train"
   ]
  },
  {
   "cell_type": "markdown",
   "metadata": {},
   "source": [
    "## 5. Perform k nearest neighbors classification, with all ODD values from 1-43 as neighbors.\n",
    "\n",
    "## 6.Perform k nearest neighbors classification, with all odd values from 1-43 as neighbors. Record the scores on the training and testing data and plot them on the same graph. Which number of neighbors seems best for this data?"
   ]
  },
  {
   "cell_type": "code",
   "execution_count": 8,
   "metadata": {},
   "outputs": [
    {
     "name": "stdout",
     "output_type": "stream",
     "text": [
      "apple\n",
      "lemon\n",
      "mandarin\n",
      "orange\n",
      "apple\n",
      "lemon\n",
      "mandarin\n",
      "orange\n",
      "apple\n",
      "lemon\n",
      "mandarin\n",
      "orange\n",
      "apple\n",
      "lemon\n",
      "mandarin\n",
      "orange\n",
      "apple\n",
      "lemon\n",
      "mandarin\n",
      "orange\n",
      "apple\n",
      "lemon\n",
      "mandarin\n",
      "orange\n",
      "apple\n",
      "lemon\n",
      "apple\n",
      "apple\n",
      "apple\n",
      "lemon\n",
      "apple\n",
      "apple\n",
      "apple\n",
      "lemon\n",
      "apple\n",
      "apple\n",
      "apple\n",
      "lemon\n",
      "apple\n",
      "apple\n",
      "apple\n",
      "lemon\n",
      "apple\n",
      "apple\n",
      "apple\n",
      "lemon\n",
      "apple\n",
      "apple\n",
      "apple\n",
      "lemon\n",
      "apple\n",
      "apple\n",
      "apple\n",
      "lemon\n",
      "apple\n",
      "apple\n",
      "apple\n",
      "lemon\n",
      "apple\n",
      "apple\n",
      "apple\n",
      "lemon\n",
      "apple\n",
      "apple\n",
      "apple\n",
      "lemon\n",
      "apple\n",
      "apple\n",
      "apple\n",
      "lemon\n",
      "apple\n",
      "apple\n",
      "apple\n",
      "lemon\n",
      "apple\n",
      "apple\n",
      "apple\n",
      "apple\n",
      "apple\n",
      "apple\n",
      "apple\n",
      "apple\n",
      "apple\n",
      "apple\n",
      "apple\n",
      "apple\n",
      "apple\n",
      "apple\n"
     ]
    },
    {
     "data": {
      "image/png": "[encoded data removed]",
      "text/plain": [
       "<Figure size 432x288 with 1 Axes>"
      ]
     },
     "metadata": {
      "needs_background": "light"
     },
     "output_type": "display_data"
    }
   ],
   "source": [
    "import numpy as np\n",
    "import matplotlib.pyplot as plt\n",
    "from sklearn.neighbors import KNeighborsClassifier\n",
    "X_sample=np.array([[7.5,7.5],[9.2,7.2],[4.3,5.9],[7.5, 7.1]])\n",
    "train_score = []\n",
    "test_score = []\n",
    "\n",
    "for i in range (1,44,2):\n",
    "    knn = KNeighborsClassifier(n_neighbors = i)\n",
    "    knn.fit(X_train, y_train)\n",
    "    \n",
    "    fruit_pred = knn.predict(X_sample)\n",
    "    \n",
    "    #record scores of test and train\n",
    "    train_score.append(knn.score(X_train,y_train))\n",
    "    test_score.append(knn.score(X_test,y_test))\n",
    "    \n",
    "    #print(\"\\nk =\",i)\n",
    "    for k in fruit_pred:\n",
    "        fruit_pred = fruit_dict[k]\n",
    "        print(fruit_pred)\n",
    "        \n",
    "        \n",
    "#6) plot train and test scores on k neighbors\n",
    "k_range = range(1,44,2)\n",
    "plt.scatter(k_range,train_score, label = \"training\", color = \"orangered\")\n",
    "plt.scatter(k_range,test_score, label = \"testing\", color = \"darkorchid\")\n",
    "plt.xlabel(\"k neighbors\")\n",
    "plt.ylabel(\"accuracy\")\n",
    "plt.title(\"Train and Test score\")\n",
    "plt.legend()\n",
    "plt.show()"
   ]
  },
  {
   "cell_type": "markdown",
   "metadata": {},
   "source": [
    "## 7. When is overfitting (high variance) occurring in your model? When is underfitting (high bias) occurring in your model?"
   ]
  },
  {
   "cell_type": "markdown",
   "metadata": {},
   "source": [
    "Overfitting happens when the model too strongly predicts the training data and can't be applied to new data and underfitting suggests the model does not fit, in other words, does not predict, the (training) data very well.  Overfitting might occur around the early k values such as 1 or 2 where we see high accuracy in the training data.  Underfitting occurs for the training and testing around the later k's such as at 40.  Between k=12 to k=30, it looks like the model is underfitted because it isn't prediting the training that well, and performs much worse for the testing.\n"
   ]
  },
  {
   "cell_type": "markdown",
   "metadata": {},
   "source": [
    "## 8. Graph the decision boundaries for 1,3,5 neighbors."
   ]
  },
  {
   "cell_type": "code",
   "execution_count": 9,
   "metadata": {},
   "outputs": [
    {
     "data": {
      "image/png": "[encoded data removed]",
      "text/plain": [
       "<Figure size 720x288 with 1 Axes>"
      ]
     },
     "metadata": {
      "needs_background": "light"
     },
     "output_type": "display_data"
    }
   ],
   "source": [
    "#Graph the decision boundaries for k = 1 neighbor\n",
    "\n",
    "knn = KNeighborsClassifier(n_neighbors = 1) # perform knn with k = 1\n",
    "knn.fit(X_train, y_train) # fit on the training data\n",
    "\n",
    "# create meshgrid\n",
    "x0, x1 = np.meshgrid(\n",
    "        np.linspace(3, 11, 100).reshape(-1, 1),\n",
    "        np.linspace(4, 10, 100).reshape(-1, 1),\n",
    "    )\n",
    "X_new = np.c_[x0.ravel(), x1.ravel()]\n",
    "\n",
    "y_predict = knn.predict(X_new)\n",
    "\n",
    "zz = y_predict.reshape(x0.shape)\n",
    "\n",
    "# plotting figure\n",
    "plt.figure(figsize=(10, 4))\n",
    "plt.plot(X[y==3, 0], X[y==3, 1], color = \"orangered\", linestyle = \"\", marker = \"*\", label=\"Orange\")\n",
    "plt.plot(X[y==2, 0], X[y==2, 1], \"g^\", label=\"Mandarin\")\n",
    "plt.plot(X[y==1, 0], X[y==1, 1], \"bx\", label=\"Lemon\")\n",
    "plt.plot(X[y==0, 0], X[y==0, 1], \"yo\", label=\"Apple\")\n",
    "\n",
    "from matplotlib.colors import ListedColormap\n",
    "custom_cmap = ListedColormap(['#fafab0','#9898ff','#a0faa0','#eb6767'])\n",
    "\n",
    "# plot contours/decision boundary\n",
    "plt.contourf(x0, x1, zz, cmap=custom_cmap)\n",
    "\n",
    "plt.xlabel(\"Height\", fontsize=14)\n",
    "plt.ylabel(\"Width\", fontsize=14)\n",
    "plt.legend(loc=\"upper left\", fontsize=10)\n",
    "plt.axis()\n",
    "plt.title(\"Decision boundary based on Training Data\")\n",
    "plt.show()"
   ]
  },
  {
   "cell_type": "code",
   "execution_count": 10,
   "metadata": {},
   "outputs": [
    {
     "data": {
      "image/png": "[encoded data removed]",
      "text/plain": [
       "<Figure size 720x288 with 1 Axes>"
      ]
     },
     "metadata": {
      "needs_background": "light"
     },
     "output_type": "display_data"
    }
   ],
   "source": [
    "#Graph the decision boundaries for k = 3 neighbor\n",
    "\n",
    "knn = KNeighborsClassifier(n_neighbors = 3)\n",
    "knn.fit(X_train, y_train)\n",
    "\n",
    "x0, x1 = np.meshgrid(\n",
    "        np.linspace(3, 11, 100).reshape(-1, 1),\n",
    "        np.linspace(4, 10, 100).reshape(-1, 1),\n",
    "    )\n",
    "X_new = np.c_[x0.ravel(), x1.ravel()]\n",
    "\n",
    "y_predict = knn.predict(X_new)\n",
    "\n",
    "zz = y_predict.reshape(x0.shape)\n",
    "\n",
    "plt.figure(figsize=(10, 4))\n",
    "plt.plot(X[y==3, 0], X[y==3, 1], color = \"orangered\", linestyle = \"\", marker = \"*\", label=\"Orange\")\n",
    "plt.plot(X[y==2, 0], X[y==2, 1], \"g^\", label=\"Mandarin\")\n",
    "plt.plot(X[y==1, 0], X[y==1, 1], \"bx\", label=\"Lemon\")\n",
    "plt.plot(X[y==0, 0], X[y==0, 1], \"yo\", label=\"Apple\")\n",
    "\n",
    "from matplotlib.colors import ListedColormap\n",
    "custom_cmap = ListedColormap(['#fafab0','#9898ff','#a0faa0','#eb6767'])\n",
    "\n",
    "\n",
    "\n",
    "plt.contourf(x0, x1, zz, cmap=custom_cmap)\n",
    "\n",
    "plt.xlabel(\"Height\", fontsize=14)\n",
    "plt.ylabel(\"Width\", fontsize=14)\n",
    "plt.legend(loc=\"upper left\", fontsize=10)\n",
    "plt.axis()\n",
    "plt.title(\"Decision boundary based on Training Data\")\n",
    "plt.show()"
   ]
  },
  {
   "cell_type": "code",
   "execution_count": 11,
   "metadata": {},
   "outputs": [
    {
     "data": {
      "image/png": "[encoded data removed]",
      "text/plain": [
       "<Figure size 720x288 with 1 Axes>"
      ]
     },
     "metadata": {
      "needs_background": "light"
     },
     "output_type": "display_data"
    }
   ],
   "source": [
    "#Graph the decision boundaries for k = 5 neighbor\n",
    "knn = KNeighborsClassifier(n_neighbors = 5)\n",
    "knn.fit(X_train, y_train)\n",
    "\n",
    "x0, x1 = np.meshgrid(\n",
    "        np.linspace(3, 11, 100).reshape(-1, 1),\n",
    "        np.linspace(4, 10, 100).reshape(-1, 1),\n",
    "    )\n",
    "X_new = np.c_[x0.ravel(), x1.ravel()]\n",
    "\n",
    "y_predict = knn.predict(X_new)\n",
    "\n",
    "zz = y_predict.reshape(x0.shape)\n",
    "\n",
    "plt.figure(figsize=(10, 4))\n",
    "plt.plot(X[y==3, 0], X[y==3, 1], color = \"orangered\", linestyle = \"\", marker = \"*\", label=\"Orange\")\n",
    "plt.plot(X[y==2, 0], X[y==2, 1], \"g^\", label=\"Mandarin\")\n",
    "plt.plot(X[y==1, 0], X[y==1, 1], \"bx\", label=\"Lemon\")\n",
    "plt.plot(X[y==0, 0], X[y==0, 1], \"yo\", label=\"Apple\")\n",
    "\n",
    "from matplotlib.colors import ListedColormap\n",
    "custom_cmap = ListedColormap(['#fafab0','#9898ff','#a0faa0','#eb6767'])\n",
    "\n",
    "\n",
    "\n",
    "plt.contourf(x0, x1, zz, cmap=custom_cmap)\n",
    "\n",
    "plt.xlabel(\"Height\", fontsize=14)\n",
    "plt.ylabel(\"Width\", fontsize=14)\n",
    "plt.legend(loc=\"upper left\", fontsize=10)\n",
    "plt.axis()\n",
    "plt.title(\"Decision boundary based on Training Data\")\n",
    "plt.show()"
   ]
  },
  {
   "cell_type": "markdown",
   "metadata": {},
   "source": [
    "## 9. Graph the decision boundaries for 19,29, and 43 neighbors."
   ]
  },
  {
   "cell_type": "code",
   "execution_count": 12,
   "metadata": {},
   "outputs": [
    {
     "data": {
      "image/png": "[encoded data removed]",
      "text/plain": [
       "<Figure size 720x288 with 1 Axes>"
      ]
     },
     "metadata": {
      "needs_background": "light"
     },
     "output_type": "display_data"
    }
   ],
   "source": [
    "#Graph the decision boundaries for k = 19 neighbor\n",
    "knn = KNeighborsClassifier(n_neighbors = 19)\n",
    "knn.fit(X_train, y_train)\n",
    "\n",
    "x0, x1 = np.meshgrid(\n",
    "        np.linspace(3, 11, 100).reshape(-1, 1),\n",
    "        np.linspace(4, 10, 100).reshape(-1, 1),\n",
    "    )\n",
    "X_new = np.c_[x0.ravel(), x1.ravel()]\n",
    "\n",
    "y_predict = knn.predict(X_new)\n",
    "\n",
    "zz = y_predict.reshape(x0.shape)\n",
    "\n",
    "plt.figure(figsize=(10, 4))\n",
    "plt.plot(X[y==3, 0], X[y==3, 1], color = \"orangered\", linestyle = \"\", marker = \"*\", label=\"Orange\")\n",
    "plt.plot(X[y==2, 0], X[y==2, 1], \"g^\", label=\"Mandarin\")\n",
    "plt.plot(X[y==1, 0], X[y==1, 1], \"bx\", label=\"Lemon\")\n",
    "plt.plot(X[y==0, 0], X[y==0, 1], \"yo\", label=\"Apple\")\n",
    "\n",
    "from matplotlib.colors import ListedColormap\n",
    "custom_cmap = ListedColormap(['#fafab0','#9898ff','#a0faa0','#eb6767'])\n",
    "\n",
    "\n",
    "\n",
    "plt.contourf(x0, x1, zz, cmap=custom_cmap)\n",
    "\n",
    "plt.xlabel(\"Height\", fontsize=14)\n",
    "plt.ylabel(\"Width\", fontsize=14)\n",
    "plt.legend(loc=\"upper left\", fontsize=10)\n",
    "plt.axis()\n",
    "plt.title(\"Decision boundary based on Training Data\")\n",
    "plt.show()"
   ]
  },
  {
   "cell_type": "code",
   "execution_count": 13,
   "metadata": {},
   "outputs": [
    {
     "data": {
      "image/png": "[encoded data removed]",
      "text/plain": [
       "<Figure size 720x288 with 1 Axes>"
      ]
     },
     "metadata": {
      "needs_background": "light"
     },
     "output_type": "display_data"
    }
   ],
   "source": [
    "#Graph the decision boundaries for k = 29 neighbor\n",
    "knn = KNeighborsClassifier(n_neighbors = 29)\n",
    "knn.fit(X_train, y_train)\n",
    "\n",
    "x0, x1 = np.meshgrid(\n",
    "        np.linspace(3, 11, 100).reshape(-1, 1),\n",
    "        np.linspace(4, 10, 100).reshape(-1, 1),\n",
    "    )\n",
    "X_new = np.c_[x0.ravel(), x1.ravel()]\n",
    "\n",
    "y_predict = knn.predict(X_new)\n",
    "\n",
    "zz = y_predict.reshape(x0.shape)\n",
    "\n",
    "plt.figure(figsize=(10, 4))\n",
    "plt.plot(X[y==3, 0], X[y==3, 1], color = \"orangered\", linestyle = \"\", marker = \"*\", label=\"Orange\")\n",
    "plt.plot(X[y==2, 0], X[y==2, 1], \"g^\", label=\"Mandarin\")\n",
    "plt.plot(X[y==1, 0], X[y==1, 1], \"bx\", label=\"Lemon\")\n",
    "plt.plot(X[y==0, 0], X[y==0, 1], \"yo\", label=\"Apple\")\n",
    "\n",
    "from matplotlib.colors import ListedColormap\n",
    "custom_cmap = ListedColormap(['#fafab0','#9898ff','#a0faa0','#eb6767'])\n",
    "\n",
    "\n",
    "\n",
    "plt.contourf(x0, x1, zz, cmap=custom_cmap)\n",
    "\n",
    "plt.xlabel(\"Height\", fontsize=14)\n",
    "plt.ylabel(\"Width\", fontsize=14)\n",
    "plt.legend(loc=\"upper left\", fontsize=10)\n",
    "plt.axis()\n",
    "plt.title(\"Decision boundary based on Training Data\")\n",
    "plt.show()"
   ]
  },
  {
   "cell_type": "code",
   "execution_count": 14,
   "metadata": {},
   "outputs": [
    {
     "data": {
      "image/png": "[encoded data removed]",
      "text/plain": [
       "<Figure size 720x288 with 1 Axes>"
      ]
     },
     "metadata": {
      "needs_background": "light"
     },
     "output_type": "display_data"
    }
   ],
   "source": [
    "#Graph the decision boundaries for k = 43 neighbor\n",
    "knn = KNeighborsClassifier(n_neighbors = 43)\n",
    "knn.fit(X_train, y_train)\n",
    "\n",
    "x0, x1 = np.meshgrid(\n",
    "        np.linspace(3, 11, 100).reshape(-1, 1),\n",
    "        np.linspace(4, 10, 100).reshape(-1, 1),\n",
    "    )\n",
    "X_new = np.c_[x0.ravel(), x1.ravel()]\n",
    "\n",
    "y_predict = knn.predict(X_new)\n",
    "\n",
    "zz = y_predict.reshape(x0.shape)\n",
    "\n",
    "plt.figure(figsize=(10, 4))\n",
    "plt.plot(X[y==3, 0], X[y==3, 1], color = \"orangered\", linestyle = \"\", marker = \"*\", label=\"Orange\")\n",
    "plt.plot(X[y==2, 0], X[y==2, 1], \"g^\", label=\"Mandarin\")\n",
    "plt.plot(X[y==1, 0], X[y==1, 1], \"bx\", label=\"Lemon\")\n",
    "plt.plot(X[y==0, 0], X[y==0, 1], \"yo\", label=\"Apple\")\n",
    "\n",
    "from matplotlib.colors import ListedColormap\n",
    "custom_cmap = ListedColormap(['#fafab0','#9898ff','#a0faa0','#eb6767'])\n",
    "\n",
    "\n",
    "\n",
    "plt.contourf(x0, x1, zz, cmap=custom_cmap)\n",
    "\n",
    "plt.xlabel(\"Height\", fontsize=14)\n",
    "plt.ylabel(\"Width\", fontsize=14)\n",
    "plt.legend(loc=\"upper left\", fontsize=10)\n",
    "plt.axis()\n",
    "plt.title(\"Decision boundary based on Training Data\")\n",
    "plt.show()"
   ]
  },
  {
   "cell_type": "markdown",
   "metadata": {},
   "source": [
    "## 10. Explain how you see the overfitting and underfitting in the decision boundaries."
   ]
  },
  {
   "cell_type": "markdown",
   "metadata": {},
   "source": [
    "Overfitting occurs when the model is predicting the data too well, where the model would perform poorly for new general data.  It looks like with a k=5 or maybe k=3 , is where we see the most overfitting because there's colored pockets that are formed directly around a few red points.  Underfitting occurs when the data isn't fitted very accurately, with very high K's, such as 43 where we see all apples, or even 29 where we even lose colors and boundaries."
   ]
  },
  {
   "cell_type": "markdown",
   "metadata": {},
   "source": [
    "## 11. Repeat problems 5 and 6 but redo your train_test_split to use \"random_state=5\". How did your performance change and why? Justify your answer based on your data."
   ]
  },
  {
   "cell_type": "code",
   "execution_count": 15,
   "metadata": {},
   "outputs": [],
   "source": [
    "X_train, X_test, y_train, y_test = train_test_split(X, y, random_state=5)\n",
    "#print(np.std(X_train))\n",
    "#print(X_train)\n",
    "#print(X_test)"
   ]
  },
  {
   "cell_type": "code",
   "execution_count": 16,
   "metadata": {},
   "outputs": [
    {
     "name": "stdout",
     "output_type": "stream",
     "text": [
      "apple\n",
      "lemon\n",
      "mandarin\n",
      "orange\n",
      "apple\n",
      "lemon\n",
      "mandarin\n",
      "orange\n",
      "apple\n",
      "lemon\n",
      "mandarin\n",
      "orange\n",
      "apple\n",
      "lemon\n",
      "apple\n",
      "orange\n",
      "apple\n",
      "lemon\n",
      "apple\n",
      "orange\n",
      "apple\n",
      "lemon\n",
      "apple\n",
      "orange\n",
      "apple\n",
      "lemon\n",
      "apple\n",
      "orange\n",
      "apple\n",
      "lemon\n",
      "apple\n",
      "orange\n",
      "apple\n",
      "lemon\n",
      "apple\n",
      "apple\n",
      "apple\n",
      "lemon\n",
      "apple\n",
      "apple\n",
      "apple\n",
      "lemon\n",
      "apple\n",
      "apple\n",
      "apple\n",
      "lemon\n",
      "apple\n",
      "apple\n",
      "apple\n",
      "lemon\n",
      "apple\n",
      "apple\n",
      "apple\n",
      "lemon\n",
      "apple\n",
      "apple\n",
      "apple\n",
      "lemon\n",
      "apple\n",
      "apple\n",
      "apple\n",
      "lemon\n",
      "apple\n",
      "apple\n",
      "apple\n",
      "orange\n",
      "apple\n",
      "apple\n",
      "apple\n",
      "orange\n",
      "apple\n",
      "apple\n",
      "apple\n",
      "orange\n",
      "apple\n",
      "apple\n",
      "apple\n",
      "orange\n",
      "apple\n",
      "apple\n",
      "apple\n",
      "apple\n",
      "apple\n",
      "apple\n",
      "apple\n",
      "apple\n",
      "apple\n",
      "apple\n"
     ]
    },
    {
     "data": {
      "image/png": "[encoded data removed]",
      "text/plain": [
       "<Figure size 432x288 with 1 Axes>"
      ]
     },
     "metadata": {
      "needs_background": "light"
     },
     "output_type": "display_data"
    }
   ],
   "source": [
    "X_sample=np.array([[7.5,7.5],[9.2,7.2],[4.3,5.9],[7.5, 7.1]])\n",
    "train_score = []\n",
    "test_score = []\n",
    "\n",
    "for i in range (1,44,2):\n",
    "    knn = KNeighborsClassifier(n_neighbors = i)\n",
    "    knn.fit(X_train, y_train)\n",
    "    \n",
    "    fruit_pred = knn.predict(X_sample)\n",
    "    \n",
    "    #record scores of test and train\n",
    "    train_score.append(knn.score(X_train,y_train))\n",
    "    test_score.append(knn.score(X_test,y_test))\n",
    "    \n",
    "    #print(\"\\nk =\",i)\n",
    "    for k in fruit_pred:\n",
    "        fruit_pred = fruit_dict[k]\n",
    "        print(fruit_pred)\n",
    "        \n",
    "        \n",
    "#6) plot train and test scores on k neighbors\n",
    "k_range = range(1,44,2)\n",
    "plt.scatter(k_range,train_score, label = \"training\", color = \"orangered\")\n",
    "plt.scatter(k_range,test_score, label = \"testing\", color = \"darkorchid\")\n",
    "plt.xlabel(\"k neighbors\")\n",
    "plt.ylabel(\"accuracy\")\n",
    "plt.title(\"Train and Test score\")\n",
    "plt.legend()\n",
    "plt.show()"
   ]
  },
  {
   "cell_type": "markdown",
   "metadata": {},
   "source": [
    "The random state of 5 performed better where we testing matched a lot closer to the training and you don't see dramatic gaps between the two curves.  If I output the old X_train with random state = 0, there seems to be more variation in the data, while if I output the X_train with random_state =5, then there is less variation in the data."
   ]
  },
  {
   "cell_type": "markdown",
   "metadata": {},
   "source": [
    "## 12. Repeat problem 6 but with X= height,mass, width and color_score columns How did your performance change?"
   ]
  },
  {
   "cell_type": "code",
   "execution_count": 17,
   "metadata": {},
   "outputs": [
    {
     "name": "stdout",
     "output_type": "stream",
     "text": [
      "(59, 4)\n",
      "(59,)\n"
     ]
    },
    {
     "data": {
      "image/png": "[encoded data removed]",
      "text/plain": [
       "<Figure size 432x288 with 1 Axes>"
      ]
     },
     "metadata": {
      "needs_background": "light"
     },
     "output_type": "display_data"
    }
   ],
   "source": [
    "X = df[[\"height\",\"mass\", \"width\", \"color_score\"]].to_numpy()\n",
    "print(X.shape)\n",
    "y=df['fruit_name'].to_numpy()\n",
    "print(y.shape)\n",
    "\n",
    "X_train, X_test, y_train, y_test = train_test_split(X, y, random_state=5)\n",
    "\n",
    "k_range = range(1,44, 2)\n",
    "\n",
    "scores_train = []\n",
    "scores_test = []\n",
    "\n",
    "for k in k_range:\n",
    "    knn = KNeighborsClassifier(n_neighbors = k)\n",
    "    knn.fit(X_train, y_train)\n",
    "    scores_train.append(knn.score(X_train, y_train))\n",
    "    scores_test.append(knn.score(X_test, y_test))\n",
    "plt.figure()\n",
    "plt.xlabel('k')\n",
    "plt.ylabel('accuracy')\n",
    "plt.title(\"Performance on training data\")\n",
    "plt.scatter(k_range, scores_train, label = \"training\", color = \"orangered\")\n",
    "plt.scatter(k_range, scores_test, label = \"testing\", color = \"darkorchid\")\n",
    "plt.scatter\n",
    "plt.legend()\n",
    "plt.show()\n"
   ]
  },
  {
   "cell_type": "markdown",
   "metadata": {},
   "source": [
    "The performance changed where at one point, the model was underfitting the testing data. In general, the model did looks like it performs pretty well since the testing data remains close to the training curve.  "
   ]
  },
  {
   "cell_type": "code",
   "execution_count": null,
   "metadata": {},
   "outputs": [],
   "source": []
  }
 ],
 "metadata": {
  "kernelspec": {
   "display_name": "Python 3",
   "language": "python",
   "name": "python3"
  },
  "language_info": {
   "codemirror_mode": {
    "name": "ipython",
    "version": 3
   },
   "file_extension": ".py",
   "mimetype": "text/x-python",
   "name": "python",
   "nbconvert_exporter": "python",
   "pygments_lexer": "ipython3",
   "version": "3.6.10"
  }
 },
 "nbformat": 4,
 "nbformat_minor": 2
}
