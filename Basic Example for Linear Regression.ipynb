{
 "cells": [
  {
   "cell_type": "code",
   "execution_count": 1,
   "metadata": {},
   "outputs": [],
   "source": [
    "import numpy as np\n",
    "import pandas as pd\n",
    "import matplotlib.pyplot as plt"
   ]
  },
  {
   "cell_type": "code",
   "execution_count": 5,
   "metadata": {},
   "outputs": [
    {
     "name": "stdout",
     "output_type": "stream",
     "text": [
      "[[1.  3. ]\n",
      " [2.  5. ]\n",
      " [3.  7. ]\n",
      " [1.5 4.2]]\n"
     ]
    }
   ],
   "source": [
    "# Simple Example from Class\n",
    "DATA = np.array([[1,3],[2,5],[3,7],[1.5,4.2]])\n",
    "print(DATA)"
   ]
  },
  {
   "cell_type": "code",
   "execution_count": 6,
   "metadata": {},
   "outputs": [],
   "source": [
    "x=DATA[:,0]\n",
    "y=DATA[:,1]"
   ]
  },
  {
   "cell_type": "code",
   "execution_count": 7,
   "metadata": {},
   "outputs": [
    {
     "data": {
      "image/png": "[encoded data removed]",
      "text/plain": [
       "<Figure size 432x288 with 1 Axes>"
      ]
     },
     "metadata": {
      "needs_background": "light"
     },
     "output_type": "display_data"
    }
   ],
   "source": [
    "# Check that the data looks linear\n",
    "plt.plot(x,y,'o')\n",
    "plt.show()"
   ]
  },
  {
   "cell_type": "code",
   "execution_count": 8,
   "metadata": {},
   "outputs": [
    {
     "name": "stdout",
     "output_type": "stream",
     "text": [
      "[[1.  1. ]\n",
      " [1.  2. ]\n",
      " [1.  3. ]\n",
      " [1.  1.5]]\n"
     ]
    }
   ],
   "source": [
    "# Create X vector with ones in the first column\n",
    "ones = np.ones_like(x).reshape(-1,1)\n",
    "xvals = x.reshape(-1,1)\n",
    "\n",
    "X = np.hstack((ones,xvals))\n",
    "print(X)"
   ]
  },
  {
   "cell_type": "code",
   "execution_count": 40,
   "metadata": {},
   "outputs": [
    {
     "name": "stdout",
     "output_type": "stream",
     "text": [
      "[1.11428571 1.96571429]\n"
     ]
    }
   ],
   "source": [
    "# Find the theta's that minimize the cost using the normal equation\n",
    "tmp1 = np.linalg.inv(np.matmul(X.T,X))\n",
    "tmp2 = np.matmul(X.T,y)\n",
    "\n",
    "theta = np.matmul(tmp1,tmp2)\n",
    "print(theta)"
   ]
  },
  {
   "cell_type": "code",
   "execution_count": 45,
   "metadata": {},
   "outputs": [
    {
     "data": {
      "image/png": "[encoded data removed]",
      "text/plain": [
       "<Figure size 432x288 with 1 Axes>"
      ]
     },
     "metadata": {
      "needs_background": "light"
     },
     "output_type": "display_data"
    }
   ],
   "source": [
    "# Plot the line and the linear fit to see if they seem reasonable\n",
    "\n",
    "# Scatter plot original data\n",
    "plt.plot(x,y,'o')\n",
    "\n",
    "# Create the array of x-points for the line\n",
    "numvals = 10\n",
    "xpoints = np.array([np.linspace(0,5,numvals)]).T\n",
    "\n",
    "# Create the array of y-points - using my linear fit (theta) values\n",
    "# Delete the old vector of ones and create a new one\n",
    "del ones \n",
    "ones = np.ones_like(xpoints).reshape(-1,1)\n",
    "# Create the X matrix\n",
    "Xpoints = np.hstack((ones,xpoints))\n",
    "# Then my y vales are just X times theta\n",
    "ypoints = np.matmul(Xpoints,theta)\n",
    "# Plot the new data\n",
    "plt.plot(xpoints,ypoints,'-')\n",
    "### NOTE - the above could also be done with a for loop pluging in x values into y = theta[0]+theta[1]x\n",
    "\n",
    "plt.show()"
   ]
  },
  {
   "cell_type": "code",
   "execution_count": 46,
   "metadata": {},
   "outputs": [
    {
     "name": "stdout",
     "output_type": "stream",
     "text": [
      "5.43885714285714\n"
     ]
    }
   ],
   "source": [
    "# Use the model to make predictions\n",
    "def single_var_linear(x,theta):\n",
    "    \"\"\"\n",
    "    This function calculates the single variable linear function given by\n",
    "    x - the input value\n",
    "    theta = (theta0,theta1) - where theta0 is the intercept and theta1 is the slope\n",
    "    \"\"\"\n",
    "    y = theta[0]+theta[1]*x\n",
    "    return y\n",
    "\n",
    "print(single_var_linear(2.2,theta))"
   ]
  },
  {
   "cell_type": "code",
   "execution_count": null,
   "metadata": {},
   "outputs": [],
   "source": []
  }
 ],
 "metadata": {
  "kernelspec": {
   "display_name": "Python 3",
   "language": "python",
   "name": "python3"
  },
  "language_info": {
   "codemirror_mode": {
    "name": "ipython",
    "version": 3
   },
   "file_extension": ".py",
   "mimetype": "text/x-python",
   "name": "python",
   "nbconvert_exporter": "python",
   "pygments_lexer": "ipython3",
   "version": "3.6.10"
  }
 },
 "nbformat": 4,
 "nbformat_minor": 2
}
