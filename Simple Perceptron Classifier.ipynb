{
 "cells": [
  {
   "cell_type": "markdown",
   "metadata": {},
   "source": [
    "### HW Day 19\n",
    "\n",
    "Your goal is to build a simple perceptron classifier that can tell the difference between TWO types of wheat.\n",
    "\n",
    "You will use Seed Area and Asymetry coefficient to predict whether a wheat seed is Canadian or Rosa"
   ]
  },
  {
   "cell_type": "code",
   "execution_count": 1,
   "metadata": {},
   "outputs": [
    {
     "data": {
      "text/html": [
       "<div>\n",
       "<style scoped>\n",
       "    .dataframe tbody tr th:only-of-type {\n",
       "        vertical-align: middle;\n",
       "    }\n",
       "\n",
       "    .dataframe tbody tr th {\n",
       "        vertical-align: top;\n",
       "    }\n",
       "\n",
       "    .dataframe thead th {\n",
       "        text-align: right;\n",
       "    }\n",
       "</style>\n",
       "<table border=\"1\" class=\"dataframe\">\n",
       "  <thead>\n",
       "    <tr style=\"text-align: right;\">\n",
       "      <th></th>\n",
       "      <th>Area</th>\n",
       "      <th>Asymmetry Coef</th>\n",
       "      <th>Seed Type</th>\n",
       "    </tr>\n",
       "  </thead>\n",
       "  <tbody>\n",
       "    <tr>\n",
       "      <th>0</th>\n",
       "      <td>15.26</td>\n",
       "      <td>2.221</td>\n",
       "      <td>kama</td>\n",
       "    </tr>\n",
       "    <tr>\n",
       "      <th>1</th>\n",
       "      <td>14.88</td>\n",
       "      <td>1.018</td>\n",
       "      <td>kama</td>\n",
       "    </tr>\n",
       "    <tr>\n",
       "      <th>2</th>\n",
       "      <td>14.29</td>\n",
       "      <td>2.699</td>\n",
       "      <td>kama</td>\n",
       "    </tr>\n",
       "    <tr>\n",
       "      <th>3</th>\n",
       "      <td>13.84</td>\n",
       "      <td>2.259</td>\n",
       "      <td>kama</td>\n",
       "    </tr>\n",
       "    <tr>\n",
       "      <th>4</th>\n",
       "      <td>16.14</td>\n",
       "      <td>1.355</td>\n",
       "      <td>kama</td>\n",
       "    </tr>\n",
       "  </tbody>\n",
       "</table>\n",
       "</div>"
      ],
      "text/plain": [
       "    Area  Asymmetry Coef Seed Type\n",
       "0  15.26           2.221      kama\n",
       "1  14.88           1.018      kama\n",
       "2  14.29           2.699      kama\n",
       "3  13.84           2.259      kama\n",
       "4  16.14           1.355      kama"
      ]
     },
     "execution_count": 1,
     "metadata": {},
     "output_type": "execute_result"
    }
   ],
   "source": [
    "import numpy as np\n",
    "import pandas as pd\n",
    "import matplotlib.pyplot as plt\n",
    "\n",
    "from sklearn.datasets import load_iris\n",
    "from sklearn.linear_model import Perceptron\n",
    "\n",
    "from sklearn.model_selection import train_test_split\n",
    "from sklearn.preprocessing import LabelEncoder\n",
    "from sklearn.preprocessing import StandardScaler\n",
    "\n",
    "# This block of code reads in the data from the URR as a pandas data frame and then displays the first few rows.\n",
    "URL = 'http://facweb1.redlands.edu/fac/joanna_bieri/machinelearning/seeds_dataset_exam2.csv'\n",
    "df = pd.read_csv(URL)\n",
    "df.head()"
   ]
  },
  {
   "cell_type": "code",
   "execution_count": 2,
   "metadata": {},
   "outputs": [
    {
     "name": "stdout",
     "output_type": "stream",
     "text": [
      "['canadian', 'kama', 'rosa']\n",
      "(140, 2)\n",
      "(140,)\n"
     ]
    },
    {
     "data": {
      "image/png": "[encoded data removed]",
      "text/plain": [
       "<Figure size 720x288 with 1 Axes>"
      ]
     },
     "metadata": {
      "needs_background": "light"
     },
     "output_type": "display_data"
    }
   ],
   "source": [
    "# Encode the labels for the seed types\n",
    "le = LabelEncoder()\n",
    "le.fit(df['Seed Type'])\n",
    "print(list(le.classes_))\n",
    "\n",
    "# Select the data we want to use in our model\n",
    "Xdata = df[['Area','Asymmetry Coef']].to_numpy()\n",
    "ydata = le.transform(df['Seed Type'])\n",
    "\n",
    "# Remove the data associated with Kama so we are only focused on Canadian vs Rosa\n",
    "X = Xdata[ydata!=1,]\n",
    "y = ydata[ydata!=1]\n",
    "\n",
    "# Show the shape of the data\n",
    "print(X.shape)\n",
    "print(y.shape)\n",
    "\n",
    "# Plot the data for the two classes\n",
    "plt.figure(figsize=(10, 4))\n",
    "plt.plot(X[y==2, 0], X[y==2, 1], \"bs\", label=\"Rosa\")\n",
    "plt.plot(X[y==0, 0], X[y==0, 1], \"ko\", label=\"Canadian\")\n",
    "\n",
    "plt.xlabel(\"Seed Area\", fontsize=14)\n",
    "plt.ylabel(\"Seed Assymetry\", fontsize=14)\n",
    "plt.legend(loc=\"upper right\", fontsize=14)\n",
    "plt.axis([10, 22, 0, 10])\n",
    "plt.title('Wheat Seed Classes')\n",
    "plt.show()"
   ]
  },
  {
   "cell_type": "markdown",
   "metadata": {},
   "source": [
    "## Your Job:  Train a Perceptron Model to Distinguish between Rosa and Canadian\n",
    "\n",
    "- Please fill in the code blocks below and add your words in the Markdown Cells.\n",
    "- Please remember we are looking for LOTS OF WORDS, describing your process!"
   ]
  },
  {
   "cell_type": "code",
   "execution_count": 3,
   "metadata": {},
   "outputs": [],
   "source": [
    "# Check how many data points we have left\n"
   ]
  },
  {
   "cell_type": "markdown",
   "metadata": {},
   "source": [
    "#### Your Comments:\n",
    "Is this a lot or a little data? Comment on the graph of the data. What are the ranges for x1 and x2? Does your data seem to be a good candidate for a perceptron model which will put a straight line decision boundary?"
   ]
  },
  {
   "cell_type": "markdown",
   "metadata": {},
   "source": [
    "Our data is fiarly small with only 140 data points for each feature.  Based on the scatter plot above, it seems reasonable for a perceptron model because there is a distinct gap between the two 'clusters' where a decision boundary could be placed betwee."
   ]
  },
  {
   "cell_type": "code",
   "execution_count": 17,
   "metadata": {},
   "outputs": [
    {
     "name": "stdout",
     "output_type": "stream",
     "text": [
      "Size of X_train: (126, 2)\n",
      "Size of X_test: (14, 2)\n",
      "Size of y_train: (126,)\n",
      "Size of y_test: (14,)\n"
     ]
    }
   ],
   "source": [
    "# Split the data into testing and training with a test_size of 0.1, a random state of 20 ##IM CHOOSING 10\n",
    "# Also tell train_test_split to use a stratified split equal to y\n",
    "RN = 20\n",
    "X_train, X_test, y_train, y_test = train_test_split(X, y, test_size=.1, stratify=y, random_state=RN)\n",
    "print(\"Size of X_train:\", X_train.shape)\n",
    "print(\"Size of X_test:\", X_test.shape)\n",
    "print(\"Size of y_train:\", y_train.shape)\n",
    "print(\"Size of y_test:\", y_test.shape)\n",
    "\n",
    "# Use standard scaler to scale the data\n",
    "from sklearn.preprocessing import StandardScaler\n",
    "\n",
    "scaler = StandardScaler()\n",
    "scaler.fit(X_train) \n",
    "scaler.fit(X_test) \n",
    "\n",
    "X_train_scale = scaler.transform(X_train) # scale training data\n",
    "X_test_scale = scaler.transform(X_test) # scale testing data\n"
   ]
  },
  {
   "cell_type": "markdown",
   "metadata": {},
   "source": [
    "It is helpful to take a stratified split when seperating the data into training and testing groups because it seeks to ensure that each fold is representative of all strata of the data.  Also I tried other random states besides 20, and 10 worked really well where the desicion boundary seemed very centered in the gap between the two groups. "
   ]
  },
  {
   "cell_type": "markdown",
   "metadata": {},
   "source": [
    "After scaling our data, I can plot the scaled points to look at the ranges.  Our original range with unscaled data was from x = 10 to x = 14 for X_1 (give or take) and 15 to 21 for X_2.  The scaled data is on a smaller range.  We can visually estimate the range like we did for the unscaled data, but instead I used the `np.ptp` command.  "
   ]
  },
  {
   "cell_type": "code",
   "execution_count": 18,
   "metadata": {},
   "outputs": [
    {
     "data": {
      "image/png": "[encoded data removed]",
      "text/plain": [
       "<Figure size 720x288 with 1 Axes>"
      ]
     },
     "metadata": {
      "needs_background": "light"
     },
     "output_type": "display_data"
    },
    {
     "name": "stdout",
     "output_type": "stream",
     "text": [
      "range of X1: 2.85148725976502\n",
      "range of X2: 5.351657561860069\n"
     ]
    }
   ],
   "source": [
    "plt.figure(figsize=(10, 4))\n",
    "plt.plot(X_train_scale[y_train==2, 0], X_train_scale[y_train==2, 1], \"bs\", label=\"Rosa\")\n",
    "plt.plot(X_train_scale[y_train==0, 0], X_train_scale[y_train==0, 1], \"ko\", label=\"Canadian\")\n",
    "\n",
    "plt.xlabel(\"Seed Area\", fontsize=14)\n",
    "plt.ylabel(\"Seed Assymetry\", fontsize=14)\n",
    "plt.legend(loc=\"upper right\", fontsize=14)\n",
    "plt.title('Wheat Seed Classes')\n",
    "plt.show()\n",
    "\n",
    "#print(np.ptp(X_train_scale ,axis=1))\n",
    "print(\"range of X1:\", np.ptp(X_train_scale[:,0]))\n",
    "print(\"range of X2:\",np.ptp(X_train_scale[:,1]))"
   ]
  },
  {
   "cell_type": "markdown",
   "metadata": {},
   "source": [
    "I recieved a range of `X1: 3.359` and `X2: 6.436`.  This seems significantly larger than what is visualized in the plot because X1 should be a range of 1 (-1.5 to -.5) and the range of X2  should be about 2.  I tried taking the `max - min` of each column and recieved the same results.  My guess for this discrepency from what I see and what I get from the command, is that the code is calculating the range while the Kama data set is still there.  Either way, the range is helpful to know to build the axes for the visualizing of the decision boundary and data."
   ]
  },
  {
   "cell_type": "markdown",
   "metadata": {},
   "source": [
    "It is important to scale your data because many times the data if of different magnitudes, units and range. When doing distance calculations it is vital to have things on similar scales so each point weighs roughly the same.  Scaling typically improves accurancy and becomes even more important for data sets with lots of features."
   ]
  },
  {
   "cell_type": "markdown",
   "metadata": {},
   "source": [
    "### Your Comments:\n",
    "You should address why we choose a stratified split. You should also comment on why in this case it is important to scale the data using StandardScaler()."
   ]
  },
  {
   "cell_type": "code",
   "execution_count": 19,
   "metadata": {},
   "outputs": [
    {
     "name": "stdout",
     "output_type": "stream",
     "text": [
      "-- Epoch 1\n",
      "Norm: 2.16, NNZs: 2, Bias: 1.000000, T: 126, Avg. loss: 0.011493\n",
      "Total training time: 0.00 seconds.\n",
      "-- Epoch 2\n",
      "Norm: 2.16, NNZs: 2, Bias: 1.000000, T: 252, Avg. loss: 0.000000\n",
      "Total training time: 0.00 seconds.\n",
      "-- Epoch 3\n",
      "Norm: 2.16, NNZs: 2, Bias: 1.000000, T: 378, Avg. loss: 0.000000\n",
      "Total training time: 0.00 seconds.\n",
      "-- Epoch 4\n",
      "Norm: 2.16, NNZs: 2, Bias: 1.000000, T: 504, Avg. loss: 0.000000\n",
      "Total training time: 0.00 seconds.\n",
      "-- Epoch 5\n",
      "Norm: 2.16, NNZs: 2, Bias: 1.000000, T: 630, Avg. loss: 0.000000\n",
      "Total training time: 0.00 seconds.\n",
      "-- Epoch 6\n",
      "Norm: 2.16, NNZs: 2, Bias: 1.000000, T: 756, Avg. loss: 0.000000\n",
      "Total training time: 0.00 seconds.\n",
      "-- Epoch 7\n",
      "Norm: 2.16, NNZs: 2, Bias: 1.000000, T: 882, Avg. loss: 0.000000\n",
      "Total training time: 0.00 seconds.\n",
      "Convergence after 7 epochs took 0.00 seconds\n"
     ]
    },
    {
     "data": {
      "text/plain": [
       "Perceptron(alpha=0.0001, class_weight=None, early_stopping=False, eta0=1.0,\n",
       "           fit_intercept=True, max_iter=1000, n_iter_no_change=5, n_jobs=None,\n",
       "           penalty=None, random_state=20, shuffle=True, tol=0.001,\n",
       "           validation_fraction=0.1, verbose=1, warm_start=False)"
      ]
     },
     "execution_count": 19,
     "metadata": {},
     "output_type": "execute_result"
    }
   ],
   "source": [
    "# Define and train (fit) a Perceptron model with 1000 interations, tol=1e-3, a learning rate of 0.5,\n",
    "# use the same random state you used above, and set verbose=1.\n",
    "\n",
    "per_clf = Perceptron(max_iter=1000, tol=1e-3, random_state=RN, verbose=1)\n",
    "per_clf.fit(X_train_scale, y_train)"
   ]
  },
  {
   "cell_type": "markdown",
   "metadata": {},
   "source": [
    "### Your Comments:\n",
    "What do all the outputs mean. You didn't give it an alpha value, what does alpha=0.0001 mean? What parameters could you play with here and what would they do?"
   ]
  },
  {
   "cell_type": "markdown",
   "metadata": {},
   "source": [
    "Alpha is a parameter for regularization term that combats overfitting by constraining the size of the weights. Increasing alpha may fix high variance (a sign of overfitting) by encouraging smaller weights, resulting in a decision boundary plot that appears with lesser curvatures. Similarly, decreasing alpha may fix high bias (a sign of underfitting) by encouraging larger weights, potentially resulting in a more complicated decision boundary.\n",
    "\n",
    "\n",
    "source: scikit learn index"
   ]
  },
  {
   "cell_type": "code",
   "execution_count": 20,
   "metadata": {},
   "outputs": [
    {
     "name": "stdout",
     "output_type": "stream",
     "text": [
      "[[ 2.15698298 -0.1391882 ]]\n",
      "[1.]\n"
     ]
    }
   ],
   "source": [
    "# Lets look at the coefficients that were saved by the model\n",
    "# In this case they apply to the scaled data!\n",
    "print(per_clf.coef_)\n",
    "print(per_clf.intercept_)"
   ]
  },
  {
   "cell_type": "code",
   "execution_count": 21,
   "metadata": {},
   "outputs": [
    {
     "data": {
      "image/png": "[encoded data removed]",
      "text/plain": [
       "<Figure size 720x288 with 1 Axes>"
      ]
     },
     "metadata": {
      "needs_background": "light"
     },
     "output_type": "display_data"
    }
   ],
   "source": [
    "# Plot your decision boundary\n",
    "\n",
    "# Update your axis so it matches the plot of the data above\n",
    "axes = [10, 23, 0, 10]\n",
    "\n",
    "# Get the grid of values over which you will predict\n",
    "x0, x1 = np.meshgrid(\n",
    "        np.linspace(axes[0], axes[1], 500).reshape(-1, 1),\n",
    "        np.linspace(axes[2], axes[3], 200).reshape(-1, 1),\n",
    "    )\n",
    "\n",
    "# Scale the new values\n",
    "X_new_scale = scaler.transform(np.c_[x0.ravel(), x1.ravel()])\n",
    "\n",
    "# Make your prediction on the scaled values\n",
    "y_predict = per_clf.predict(X_new_scale)\n",
    "zz = y_predict.reshape(x0.shape)\n",
    "\n",
    "# Plot the origial data\n",
    "plt.figure(figsize=(10, 4))\n",
    "plt.plot(X[y==2, 0], X[y==2, 1], \"bs\", label=\"Rosa\")\n",
    "plt.plot(X[y==0, 0], X[y==0, 1], \"ko\", label=\"Canadian\")\n",
    "\n",
    "# Create a contour map of the decision boundaries\n",
    "from matplotlib.colors import ListedColormap\n",
    "custom_cmap = ListedColormap(['#fafab0','#9898ff'])\n",
    "plt.contourf(x0, x1, zz, cmap=custom_cmap)\n",
    "\n",
    "# Labels\n",
    "plt.xlabel(\"Seed Area\", fontsize=14)\n",
    "plt.ylabel(\"Seed Assymetry\", fontsize=14)\n",
    "plt.legend(loc=\"upper right\", fontsize=14)\n",
    "#plt.axis(axes)\n",
    "plt.title('Wheat Seed Classes')\n",
    "\n",
    "plt.show()"
   ]
  },
  {
   "cell_type": "markdown",
   "metadata": {},
   "source": [
    "### Your comments:\n",
    "What does this graph show? Does the decision boundary at least seem reasonable?"
   ]
  },
  {
   "cell_type": "code",
   "execution_count": 22,
   "metadata": {},
   "outputs": [
    {
     "name": "stdout",
     "output_type": "stream",
     "text": [
      "Testing Accuracy:  1.0\n",
      "Training Accuracy:  1.0\n"
     ]
    }
   ],
   "source": [
    "# Report our accuracy\n",
    "y_predict=per_clf.predict(X_test_scale)\n",
    "score=y_predict==y_test\n",
    "print(\"Testing Accuracy: \", score.sum()/len(score))\n",
    "\n",
    "y_predict=per_clf.predict(X_train_scale)\n",
    "score=y_predict==y_train\n",
    "print(\"Training Accuracy: \", score.sum()/len(score))"
   ]
  },
  {
   "cell_type": "markdown",
   "metadata": {},
   "source": [
    "### Your Comments:\n",
    "Could you have predicted this accuracy from looking at the graph? How did you do?"
   ]
  },
  {
   "cell_type": "markdown",
   "metadata": {},
   "source": [
    "The accuracy is 1.0 and just by looking at the plot we can tell that the line perfectly splits the two groups where 100% of a group are on either side of the boundary."
   ]
  },
  {
   "cell_type": "markdown",
   "metadata": {},
   "source": [
    "### Now - rerun the code for some different parameter values:\n",
    "- can you select values that make the model not run so well\n",
    "- values that put the decision boundary at a visually better or worse place\n",
    "- what would happen if you didn't scale your data first?\n",
    "\n",
    "### Your Comments:\n",
    "\n",
    "\n",
    "\n",
    "\n"
   ]
  },
  {
   "cell_type": "markdown",
   "metadata": {},
   "source": [
    "### trying to make bad model"
   ]
  },
  {
   "cell_type": "markdown",
   "metadata": {},
   "source": [
    "I could make a bad model but not scaling the data before creating the model.  I did this by accident earlier and the decision boundary gets extremely messed up. However, I tried many variations of parameters for `max_iter`, `tol`, `alpha`, `eta0`, and I couldn't get the model to appear significantly worse. "
   ]
  },
  {
   "cell_type": "code",
   "execution_count": 31,
   "metadata": {},
   "outputs": [
    {
     "name": "stdout",
     "output_type": "stream",
     "text": [
      "-- Epoch 1\n",
      "Norm: 1.08, NNZs: 2, Bias: 0.500000, T: 126, Avg. loss: 0.005746\n",
      "Total training time: 0.00 seconds.\n",
      "-- Epoch 2\n",
      "Norm: 1.08, NNZs: 2, Bias: 0.500000, T: 252, Avg. loss: 0.000000\n",
      "Total training time: 0.00 seconds.\n",
      "-- Epoch 3\n",
      "Norm: 1.08, NNZs: 2, Bias: 0.500000, T: 378, Avg. loss: 0.000000\n",
      "Total training time: 0.00 seconds.\n",
      "-- Epoch 4\n",
      "Norm: 1.08, NNZs: 2, Bias: 0.500000, T: 504, Avg. loss: 0.000000\n",
      "Total training time: 0.00 seconds.\n",
      "-- Epoch 5\n",
      "Norm: 1.08, NNZs: 2, Bias: 0.500000, T: 630, Avg. loss: 0.000000\n",
      "Total training time: 0.00 seconds.\n",
      "-- Epoch 6\n",
      "Norm: 1.08, NNZs: 2, Bias: 0.500000, T: 756, Avg. loss: 0.000000\n",
      "Total training time: 0.00 seconds.\n",
      "Convergence after 6 epochs took 0.00 seconds\n",
      "[[ 1.07849149 -0.0695941 ]]\n",
      "[0.5]\n"
     ]
    },
    {
     "data": {
      "image/png": "[encoded data removed]",
      "text/plain": [
       "<Figure size 720x288 with 1 Axes>"
      ]
     },
     "metadata": {
      "needs_background": "light"
     },
     "output_type": "display_data"
    }
   ],
   "source": [
    "per_clf = Perceptron(max_iter=10, tol=1, alpha = 100000, eta0=0.5, random_state=RN, verbose=1)\n",
    "per_clf.fit(X_train_scale, y_train)\n",
    "\n",
    "# Lets look at the coefficients that were saved by the model\n",
    "# In this case they apply to the scaled data!\n",
    "print(per_clf.coef_)\n",
    "print(per_clf.intercept_)\n",
    "\n",
    "# Plot your decision boundary\n",
    "\n",
    "# Update your axis so it matches the plot of the data above\n",
    "axes = [10, 23, 0, 10]\n",
    "\n",
    "# Get the grid of values over which you will predict\n",
    "x0, x1 = np.meshgrid(\n",
    "        np.linspace(axes[0], axes[1], 500).reshape(-1, 1),\n",
    "        np.linspace(axes[2], axes[3], 200).reshape(-1, 1),\n",
    "    )\n",
    "\n",
    "# Scale the new values\n",
    "X_new_scale = scaler.transform(np.c_[x0.ravel(), x1.ravel()])\n",
    "\n",
    "# Make your prediction on the scaled values\n",
    "y_predict = per_clf.predict(X_new_scale)\n",
    "zz = y_predict.reshape(x0.shape)\n",
    "\n",
    "# Plot the origial data\n",
    "plt.figure(figsize=(10, 4))\n",
    "plt.plot(X[y==2, 0], X[y==2, 1], \"bs\", label=\"Rosa\")\n",
    "plt.plot(X[y==0, 0], X[y==0, 1], \"ko\", label=\"Canadian\")\n",
    "\n",
    "# Create a contour map of the decision boundaries\n",
    "from matplotlib.colors import ListedColormap\n",
    "custom_cmap = ListedColormap(['#fafab0','#9898ff'])\n",
    "plt.contourf(x0, x1, zz, cmap=custom_cmap)\n",
    "\n",
    "# Labels\n",
    "plt.xlabel(\"Seed Area\", fontsize=14)\n",
    "plt.ylabel(\"Seed Assymetry\", fontsize=14)\n",
    "plt.legend(loc=\"upper right\", fontsize=14)\n",
    "#plt.axis(axes)\n",
    "plt.title('Wheat Seed Classes')\n",
    "\n",
    "plt.show()"
   ]
  },
  {
   "cell_type": "markdown",
   "metadata": {},
   "source": [
    "### trying to make a better model\n",
    "\n",
    "The best thing I could do to make a better model was to change the random state to 10.  I attempted to make the decision boundary more vertical but messing with alpha from 0.0001 to 10000 did not do much to the angle of the decision boundary."
   ]
  },
  {
   "cell_type": "code",
   "execution_count": 37,
   "metadata": {},
   "outputs": [
    {
     "name": "stdout",
     "output_type": "stream",
     "text": [
      "-- Epoch 1\n",
      "Norm: 2.07, NNZs: 2, Bias: 0.500000, T: 126, Avg. loss: 0.008990\n",
      "Total training time: 0.00 seconds.\n",
      "-- Epoch 2\n",
      "Norm: 2.98, NNZs: 2, Bias: 0.000000, T: 252, Avg. loss: 0.012176\n",
      "Total training time: 0.00 seconds.\n",
      "-- Epoch 3\n",
      "Norm: 2.98, NNZs: 2, Bias: 0.500000, T: 378, Avg. loss: 0.000027\n",
      "Total training time: 0.00 seconds.\n",
      "-- Epoch 4\n",
      "Norm: 2.98, NNZs: 2, Bias: 0.500000, T: 504, Avg. loss: 0.000000\n",
      "Total training time: 0.00 seconds.\n",
      "-- Epoch 5\n",
      "Norm: 2.98, NNZs: 2, Bias: 0.500000, T: 630, Avg. loss: 0.000000\n",
      "Total training time: 0.00 seconds.\n",
      "-- Epoch 6\n",
      "Norm: 2.98, NNZs: 2, Bias: 0.500000, T: 756, Avg. loss: 0.000000\n",
      "Total training time: 0.00 seconds.\n",
      "-- Epoch 7\n",
      "Norm: 2.98, NNZs: 2, Bias: 0.500000, T: 882, Avg. loss: 0.000000\n",
      "Total training time: 0.00 seconds.\n",
      "-- Epoch 8\n",
      "Norm: 2.98, NNZs: 2, Bias: 0.500000, T: 1008, Avg. loss: 0.000000\n",
      "Total training time: 0.00 seconds.\n",
      "Convergence after 8 epochs took 0.00 seconds\n",
      "[[ 2.95255677 -0.42514523]]\n",
      "[0.5]\n"
     ]
    },
    {
     "data": {
      "image/png": "[encoded data removed]",
      "text/plain": [
       "<Figure size 720x288 with 1 Axes>"
      ]
     },
     "metadata": {
      "needs_background": "light"
     },
     "output_type": "display_data"
    }
   ],
   "source": [
    "per_clf = Perceptron(max_iter=1000, tol=0.001, alpha = 10000, eta0=0.5, random_state=10, verbose=1)\n",
    "per_clf.fit(X_train_scale, y_train)\n",
    "\n",
    "# Lets look at the coefficients that were saved by the model\n",
    "# In this case they apply to the scaled data!\n",
    "print(per_clf.coef_)\n",
    "print(per_clf.intercept_)\n",
    "\n",
    "# Plot your decision boundary\n",
    "\n",
    "# Update your axis so it matches the plot of the data above\n",
    "axes = [10, 23, 0, 10]\n",
    "\n",
    "# Get the grid of values over which you will predict\n",
    "x0, x1 = np.meshgrid(\n",
    "        np.linspace(axes[0], axes[1], 500).reshape(-1, 1),\n",
    "        np.linspace(axes[2], axes[3], 200).reshape(-1, 1),\n",
    "    )\n",
    "\n",
    "# Scale the new values\n",
    "X_new_scale = scaler.transform(np.c_[x0.ravel(), x1.ravel()])\n",
    "\n",
    "# Make your prediction on the scaled values\n",
    "y_predict = per_clf.predict(X_new_scale)\n",
    "zz = y_predict.reshape(x0.shape)\n",
    "\n",
    "# Plot the origial data\n",
    "plt.figure(figsize=(10, 4))\n",
    "plt.plot(X[y==2, 0], X[y==2, 1], \"bs\", label=\"Rosa\")\n",
    "plt.plot(X[y==0, 0], X[y==0, 1], \"ko\", label=\"Canadian\")\n",
    "\n",
    "# Create a contour map of the decision boundaries\n",
    "from matplotlib.colors import ListedColormap\n",
    "custom_cmap = ListedColormap(['#fafab0','#9898ff'])\n",
    "plt.contourf(x0, x1, zz, cmap=custom_cmap)\n",
    "\n",
    "# Labels\n",
    "plt.xlabel(\"Seed Area\", fontsize=14)\n",
    "plt.ylabel(\"Seed Assymetry\", fontsize=14)\n",
    "plt.legend(loc=\"upper right\", fontsize=14)\n",
    "#plt.axis(axes)\n",
    "plt.title('Wheat Seed Classes')\n",
    "\n",
    "plt.show()"
   ]
  },
  {
   "cell_type": "markdown",
   "metadata": {},
   "source": [
    "### model without scaling data\n",
    "\n",
    "Visually, the plot of the unscaled model looks significantly worse where the boundary intersects the two groups.  Regardless, the accuracy still isn't too bad, but it is still important to scale the data.  It seems unlikely that the decision boundary would work nicely on new data."
   ]
  },
  {
   "cell_type": "code",
   "execution_count": 40,
   "metadata": {},
   "outputs": [
    {
     "name": "stdout",
     "output_type": "stream",
     "text": [
      "[[ 21.555  -50.0985]]\n",
      "[-51.]\n"
     ]
    },
    {
     "data": {
      "image/png": "[encoded data removed]",
      "text/plain": [
       "<Figure size 720x288 with 1 Axes>"
      ]
     },
     "metadata": {
      "needs_background": "light"
     },
     "output_type": "display_data"
    },
    {
     "name": "stdout",
     "output_type": "stream",
     "text": [
      "Testing Accuracy:  0.9285714285714286\n",
      "Training Accuracy:  0.8650793650793651\n"
     ]
    }
   ],
   "source": [
    "per_clf = Perceptron(max_iter=1000, tol=0.001, alpha = 10000, eta0=0.5, random_state=10, verbose=0)\n",
    "per_clf.fit(X_train, y_train)\n",
    "\n",
    "# Lets look at the coefficients that were saved by the model\n",
    "# In this case they apply to the scaled data!\n",
    "print(per_clf.coef_)\n",
    "print(per_clf.intercept_)\n",
    "\n",
    "# Plot your decision boundary\n",
    "\n",
    "# Update your axis so it matches the plot of the data above\n",
    "axes = [10, 23, 0, 10]\n",
    "\n",
    "# Get the grid of values over which you will predict\n",
    "x0, x1 = np.meshgrid(\n",
    "        np.linspace(axes[0], axes[1], 500).reshape(-1, 1),\n",
    "        np.linspace(axes[2], axes[3], 200).reshape(-1, 1),\n",
    "    )\n",
    "\n",
    "# Scale the new values\n",
    "X_new_scale = scaler.transform(np.c_[x0.ravel(), x1.ravel()])\n",
    "\n",
    "# Make your prediction on the scaled values\n",
    "y_predict = per_clf.predict(X_new_scale)\n",
    "zz = y_predict.reshape(x0.shape)\n",
    "\n",
    "# Plot the origial data\n",
    "plt.figure(figsize=(10, 4))\n",
    "plt.plot(X[y==2, 0], X[y==2, 1], \"bs\", label=\"Rosa\")\n",
    "plt.plot(X[y==0, 0], X[y==0, 1], \"ko\", label=\"Canadian\")\n",
    "\n",
    "# Create a contour map of the decision boundaries\n",
    "from matplotlib.colors import ListedColormap\n",
    "custom_cmap = ListedColormap(['#fafab0','#9898ff'])\n",
    "plt.contourf(x0, x1, zz, cmap=custom_cmap)\n",
    "\n",
    "# Labels\n",
    "plt.xlabel(\"Seed Area\", fontsize=14)\n",
    "plt.ylabel(\"Seed Assymetry\", fontsize=14)\n",
    "plt.legend(loc=\"upper right\", fontsize=14)\n",
    "#plt.axis(axes)\n",
    "plt.title('Wheat Seed Classes')\n",
    "\n",
    "plt.show()\n",
    "\n",
    "# Report our accuracy\n",
    "y_predict=per_clf.predict(X_test)\n",
    "score=y_predict==y_test\n",
    "print(\"Testing Accuracy: \", score.sum()/len(score))\n",
    "\n",
    "y_predict=per_clf.predict(X_train)\n",
    "score=y_predict==y_train\n",
    "print(\"Training Accuracy: \", score.sum()/len(score))"
   ]
  },
  {
   "cell_type": "code",
   "execution_count": null,
   "metadata": {},
   "outputs": [],
   "source": []
  }
 ],
 "metadata": {
  "kernelspec": {
   "display_name": "Python 3",
   "language": "python",
   "name": "python3"
  },
  "language_info": {
   "codemirror_mode": {
    "name": "ipython",
    "version": 3
   },
   "file_extension": ".py",
   "mimetype": "text/x-python",
   "name": "python",
   "nbconvert_exporter": "python",
   "pygments_lexer": "ipython3",
   "version": "3.6.10"
  }
 },
 "nbformat": 4,
 "nbformat_minor": 2
}
